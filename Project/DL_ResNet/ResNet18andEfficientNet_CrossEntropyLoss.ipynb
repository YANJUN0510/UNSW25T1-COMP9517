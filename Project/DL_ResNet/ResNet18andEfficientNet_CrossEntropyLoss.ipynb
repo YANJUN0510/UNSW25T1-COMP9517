{
  "cells": [
    {
      "cell_type": "markdown",
      "source": [
        "# **Authorize Drive and set up pre-environments**"
      ],
      "metadata": {
        "id": "s1gTNtCpobV7"
      }
    },
    {
      "cell_type": "code",
      "source": [
        "# Mount and authorize Google Drive\n",
        "from google.colab import drive\n",
        "drive.mount('/content/drive')"
      ],
      "metadata": {
        "colab": {
          "base_uri": "https://localhost:8080/"
        },
        "id": "X2hx_fjc89st",
        "outputId": "99ae99d0-d33c-4ec6-8176-039120662f60"
      },
      "execution_count": 1,
      "outputs": [
        {
          "output_type": "stream",
          "name": "stdout",
          "text": [
            "Mounted at /content/drive\n"
          ]
        }
      ]
    },
    {
      "cell_type": "code",
      "source": [
        "# Make sure the necessary packages are installed\n",
        "!pip install --quiet --upgrade torch torchvision matplotlib seaborn scikit-learn tqdm pillow"
      ],
      "metadata": {
        "colab": {
          "base_uri": "https://localhost:8080/"
        },
        "id": "UjNuSM6w0ly2",
        "outputId": "ae176d6b-1623-4ada-8805-19842a952be1"
      },
      "execution_count": 2,
      "outputs": [
        {
          "output_type": "stream",
          "name": "stdout",
          "text": [
            "\u001b[2K   \u001b[90m━━━━━━━━━━━━━━━━━━━━━━━━━━━━━━━━━━━━━━━━\u001b[0m \u001b[32m363.4/363.4 MB\u001b[0m \u001b[31m4.7 MB/s\u001b[0m eta \u001b[36m0:00:00\u001b[0m\n",
            "\u001b[2K   \u001b[90m━━━━━━━━━━━━━━━━━━━━━━━━━━━━━━━━━━━━━━━━\u001b[0m \u001b[32m13.8/13.8 MB\u001b[0m \u001b[31m75.1 MB/s\u001b[0m eta \u001b[36m0:00:00\u001b[0m\n",
            "\u001b[2K   \u001b[90m━━━━━━━━━━━━━━━━━━━━━━━━━━━━━━━━━━━━━━━━\u001b[0m \u001b[32m24.6/24.6 MB\u001b[0m \u001b[31m55.8 MB/s\u001b[0m eta \u001b[36m0:00:00\u001b[0m\n",
            "\u001b[2K   \u001b[90m━━━━━━━━━━━━━━━━━━━━━━━━━━━━━━━━━━━━━━━━\u001b[0m \u001b[32m883.7/883.7 kB\u001b[0m \u001b[31m42.9 MB/s\u001b[0m eta \u001b[36m0:00:00\u001b[0m\n",
            "\u001b[2K   \u001b[90m━━━━━━━━━━━━━━━━━━━━━━━━━━━━━━━━━━━━━━━━\u001b[0m \u001b[32m664.8/664.8 MB\u001b[0m \u001b[31m2.7 MB/s\u001b[0m eta \u001b[36m0:00:00\u001b[0m\n",
            "\u001b[2K   \u001b[90m━━━━━━━━━━━━━━━━━━━━━━━━━━━━━━━━━━━━━━━━\u001b[0m \u001b[32m211.5/211.5 MB\u001b[0m \u001b[31m6.5 MB/s\u001b[0m eta \u001b[36m0:00:00\u001b[0m\n",
            "\u001b[2K   \u001b[90m━━━━━━━━━━━━━━━━━━━━━━━━━━━━━━━━━━━━━━━━\u001b[0m \u001b[32m56.3/56.3 MB\u001b[0m \u001b[31m13.1 MB/s\u001b[0m eta \u001b[36m0:00:00\u001b[0m\n",
            "\u001b[2K   \u001b[90m━━━━━━━━━━━━━━━━━━━━━━━━━━━━━━━━━━━━━━━━\u001b[0m \u001b[32m127.9/127.9 MB\u001b[0m \u001b[31m7.5 MB/s\u001b[0m eta \u001b[36m0:00:00\u001b[0m\n",
            "\u001b[2K   \u001b[90m━━━━━━━━━━━━━━━━━━━━━━━━━━━━━━━━━━━━━━━━\u001b[0m \u001b[32m207.5/207.5 MB\u001b[0m \u001b[31m5.7 MB/s\u001b[0m eta \u001b[36m0:00:00\u001b[0m\n",
            "\u001b[2K   \u001b[90m━━━━━━━━━━━━━━━━━━━━━━━━━━━━━━━━━━━━━━━━\u001b[0m \u001b[32m21.1/21.1 MB\u001b[0m \u001b[31m92.8 MB/s\u001b[0m eta \u001b[36m0:00:00\u001b[0m\n",
            "\u001b[2K   \u001b[90m━━━━━━━━━━━━━━━━━━━━━━━━━━━━━━━━━━━━━━━━\u001b[0m \u001b[32m8.6/8.6 MB\u001b[0m \u001b[31m118.6 MB/s\u001b[0m eta \u001b[36m0:00:00\u001b[0m\n",
            "\u001b[2K   \u001b[90m━━━━━━━━━━━━━━━━━━━━━━━━━━━━━━━━━━━━━━━━\u001b[0m \u001b[32m4.6/4.6 MB\u001b[0m \u001b[31m107.1 MB/s\u001b[0m eta \u001b[36m0:00:00\u001b[0m\n",
            "\u001b[?25h"
          ]
        }
      ]
    },
    {
      "cell_type": "code",
      "execution_count": 9,
      "metadata": {
        "id": "rOatkzBV0hqc"
      },
      "outputs": [],
      "source": [
        "# Loading Kit\n",
        "import random\n",
        "import os\n",
        "import shutil\n",
        "from PIL import Image\n",
        "import pandas as pd\n",
        "import numpy as np\n",
        "import torch\n",
        "from torchvision import transforms as tfs\n",
        "from torch.utils.data import Dataset\n",
        "from torch.utils.data import TensorDataset,DataLoader\n",
        "from torchvision import transforms\n",
        "from torch.utils.data import random_split\n",
        "import torch.nn as nn\n",
        "import matplotlib.pyplot as plt\n",
        "from sklearn.model_selection import train_test_split\n",
        "from tqdm import tqdm\n",
        "from torchvision import models\n",
        "import seaborn as sns\n",
        "import matplotlib.pyplot as plt\n",
        "from sklearn.metrics import recall_score, f1_score,accuracy_score,precision_score,confusion_matrix,classification_report\n",
        "from sklearn.utils.class_weight import compute_class_weight"
      ]
    },
    {
      "cell_type": "code",
      "execution_count": 4,
      "metadata": {
        "id": "iYeSKzUq0hqd"
      },
      "outputs": [],
      "source": [
        "# Setting up training equipment\n",
        "device = torch.device('cuda:0' if torch.cuda.is_available() else 'cpu')"
      ]
    },
    {
      "cell_type": "markdown",
      "source": [
        "# **Construction data collection**"
      ],
      "metadata": {
        "id": "F1X3ttg9oQoc"
      }
    },
    {
      "cell_type": "code",
      "source": [
        "# Unzip Aerial_Landscapes.zip\n",
        "import zipfile\n",
        "import os\n",
        "\n",
        "# Path to the compressed file\n",
        "zip_path = '/content/drive/MyDrive/Aerial_Landscapes.zip'\n",
        "extract_path = '/content/aerial_data'\n",
        "\n",
        "# Unzip\n",
        "with zipfile.ZipFile(zip_path, 'r') as zip_ref:\n",
        "    zip_ref.extractall(extract_path)\n",
        "\n",
        "print(\"Unzipping complete!\")\n"
      ],
      "metadata": {
        "colab": {
          "base_uri": "https://localhost:8080/"
        },
        "id": "I1QBhLIv9HG2",
        "outputId": "66a1aa67-9cb1-4be4-b86c-efa6a7d80952"
      },
      "execution_count": 5,
      "outputs": [
        {
          "output_type": "stream",
          "name": "stdout",
          "text": [
            "Unzipping complete!\n"
          ]
        }
      ]
    },
    {
      "cell_type": "code",
      "source": [
        "# Split into train / val / test folders\n",
        "import shutil\n",
        "from sklearn.model_selection import train_test_split\n",
        "\n",
        "# Assume that the folder after decompression is extract_path, which contains the folders of each type of image\n",
        "source_dir = os.path.join(extract_path, 'Aerial_Landscapes')\n",
        "split_root = '/content/split_data'\n",
        "\n",
        "for class_name in os.listdir(source_dir):\n",
        "    class_path = os.path.join(source_dir, class_name)\n",
        "    if not os.path.isdir(class_path):\n",
        "        continue\n",
        "\n",
        "    images = [img for img in os.listdir(class_path) if os.path.isfile(os.path.join(class_path, img))]\n",
        "\n",
        "    train_imgs, temp_imgs = train_test_split(images, test_size=0.3, random_state=42)\n",
        "    val_imgs, test_imgs = train_test_split(temp_imgs, test_size=0.5, random_state=42)\n",
        "\n",
        "    for split, split_imgs in zip(['train', 'val', 'test'], [train_imgs, val_imgs, test_imgs]):\n",
        "        split_dir = os.path.join(split_root, split, class_name)\n",
        "        os.makedirs(split_dir, exist_ok=True)\n",
        "        for img in split_imgs:\n",
        "            shutil.copy(os.path.join(class_path, img), os.path.join(split_dir, img))\n",
        "\n",
        "print(\"Dataset splitting completed！\")"
      ],
      "metadata": {
        "colab": {
          "base_uri": "https://localhost:8080/"
        },
        "id": "LPXEND6N9OgM",
        "outputId": "5e1b17c0-59bc-4437-8351-7224e77de645"
      },
      "execution_count": 6,
      "outputs": [
        {
          "output_type": "stream",
          "name": "stdout",
          "text": [
            "Dataset splitting completed！\n"
          ]
        }
      ]
    },
    {
      "cell_type": "code",
      "execution_count": 7,
      "metadata": {
        "colab": {
          "base_uri": "https://localhost:8080/",
          "height": 224
        },
        "id": "skASWBGd0hqe",
        "outputId": "a2f2268a-f808-4c9c-bcc7-e06c8761f898"
      },
      "outputs": [
        {
          "output_type": "stream",
          "name": "stdout",
          "text": [
            "Create df successfully！\n"
          ]
        },
        {
          "output_type": "execute_result",
          "data": {
            "text/plain": [
              "                                        filename        class  label\n",
              "0  /content/split_data/train/Agriculture/180.jpg  Agriculture      0\n",
              "1  /content/split_data/train/Agriculture/636.jpg  Agriculture      0\n",
              "2  /content/split_data/train/Agriculture/472.jpg  Agriculture      0\n",
              "3  /content/split_data/train/Agriculture/678.jpg  Agriculture      0\n",
              "4  /content/split_data/train/Agriculture/773.jpg  Agriculture      0"
            ],
            "text/html": [
              "\n",
              "  <div id=\"df-c6fb295c-ae1b-4749-bcd3-628224adb4bb\" class=\"colab-df-container\">\n",
              "    <div>\n",
              "<style scoped>\n",
              "    .dataframe tbody tr th:only-of-type {\n",
              "        vertical-align: middle;\n",
              "    }\n",
              "\n",
              "    .dataframe tbody tr th {\n",
              "        vertical-align: top;\n",
              "    }\n",
              "\n",
              "    .dataframe thead th {\n",
              "        text-align: right;\n",
              "    }\n",
              "</style>\n",
              "<table border=\"1\" class=\"dataframe\">\n",
              "  <thead>\n",
              "    <tr style=\"text-align: right;\">\n",
              "      <th></th>\n",
              "      <th>filename</th>\n",
              "      <th>class</th>\n",
              "      <th>label</th>\n",
              "    </tr>\n",
              "  </thead>\n",
              "  <tbody>\n",
              "    <tr>\n",
              "      <th>0</th>\n",
              "      <td>/content/split_data/train/Agriculture/180.jpg</td>\n",
              "      <td>Agriculture</td>\n",
              "      <td>0</td>\n",
              "    </tr>\n",
              "    <tr>\n",
              "      <th>1</th>\n",
              "      <td>/content/split_data/train/Agriculture/636.jpg</td>\n",
              "      <td>Agriculture</td>\n",
              "      <td>0</td>\n",
              "    </tr>\n",
              "    <tr>\n",
              "      <th>2</th>\n",
              "      <td>/content/split_data/train/Agriculture/472.jpg</td>\n",
              "      <td>Agriculture</td>\n",
              "      <td>0</td>\n",
              "    </tr>\n",
              "    <tr>\n",
              "      <th>3</th>\n",
              "      <td>/content/split_data/train/Agriculture/678.jpg</td>\n",
              "      <td>Agriculture</td>\n",
              "      <td>0</td>\n",
              "    </tr>\n",
              "    <tr>\n",
              "      <th>4</th>\n",
              "      <td>/content/split_data/train/Agriculture/773.jpg</td>\n",
              "      <td>Agriculture</td>\n",
              "      <td>0</td>\n",
              "    </tr>\n",
              "  </tbody>\n",
              "</table>\n",
              "</div>\n",
              "    <div class=\"colab-df-buttons\">\n",
              "\n",
              "  <div class=\"colab-df-container\">\n",
              "    <button class=\"colab-df-convert\" onclick=\"convertToInteractive('df-c6fb295c-ae1b-4749-bcd3-628224adb4bb')\"\n",
              "            title=\"Convert this dataframe to an interactive table.\"\n",
              "            style=\"display:none;\">\n",
              "\n",
              "  <svg xmlns=\"http://www.w3.org/2000/svg\" height=\"24px\" viewBox=\"0 -960 960 960\">\n",
              "    <path d=\"M120-120v-720h720v720H120Zm60-500h600v-160H180v160Zm220 220h160v-160H400v160Zm0 220h160v-160H400v160ZM180-400h160v-160H180v160Zm440 0h160v-160H620v160ZM180-180h160v-160H180v160Zm440 0h160v-160H620v160Z\"/>\n",
              "  </svg>\n",
              "    </button>\n",
              "\n",
              "  <style>\n",
              "    .colab-df-container {\n",
              "      display:flex;\n",
              "      gap: 12px;\n",
              "    }\n",
              "\n",
              "    .colab-df-convert {\n",
              "      background-color: #E8F0FE;\n",
              "      border: none;\n",
              "      border-radius: 50%;\n",
              "      cursor: pointer;\n",
              "      display: none;\n",
              "      fill: #1967D2;\n",
              "      height: 32px;\n",
              "      padding: 0 0 0 0;\n",
              "      width: 32px;\n",
              "    }\n",
              "\n",
              "    .colab-df-convert:hover {\n",
              "      background-color: #E2EBFA;\n",
              "      box-shadow: 0px 1px 2px rgba(60, 64, 67, 0.3), 0px 1px 3px 1px rgba(60, 64, 67, 0.15);\n",
              "      fill: #174EA6;\n",
              "    }\n",
              "\n",
              "    .colab-df-buttons div {\n",
              "      margin-bottom: 4px;\n",
              "    }\n",
              "\n",
              "    [theme=dark] .colab-df-convert {\n",
              "      background-color: #3B4455;\n",
              "      fill: #D2E3FC;\n",
              "    }\n",
              "\n",
              "    [theme=dark] .colab-df-convert:hover {\n",
              "      background-color: #434B5C;\n",
              "      box-shadow: 0px 1px 3px 1px rgba(0, 0, 0, 0.15);\n",
              "      filter: drop-shadow(0px 1px 2px rgba(0, 0, 0, 0.3));\n",
              "      fill: #FFFFFF;\n",
              "    }\n",
              "  </style>\n",
              "\n",
              "    <script>\n",
              "      const buttonEl =\n",
              "        document.querySelector('#df-c6fb295c-ae1b-4749-bcd3-628224adb4bb button.colab-df-convert');\n",
              "      buttonEl.style.display =\n",
              "        google.colab.kernel.accessAllowed ? 'block' : 'none';\n",
              "\n",
              "      async function convertToInteractive(key) {\n",
              "        const element = document.querySelector('#df-c6fb295c-ae1b-4749-bcd3-628224adb4bb');\n",
              "        const dataTable =\n",
              "          await google.colab.kernel.invokeFunction('convertToInteractive',\n",
              "                                                    [key], {});\n",
              "        if (!dataTable) return;\n",
              "\n",
              "        const docLinkHtml = 'Like what you see? Visit the ' +\n",
              "          '<a target=\"_blank\" href=https://colab.research.google.com/notebooks/data_table.ipynb>data table notebook</a>'\n",
              "          + ' to learn more about interactive tables.';\n",
              "        element.innerHTML = '';\n",
              "        dataTable['output_type'] = 'display_data';\n",
              "        await google.colab.output.renderOutput(dataTable, element);\n",
              "        const docLink = document.createElement('div');\n",
              "        docLink.innerHTML = docLinkHtml;\n",
              "        element.appendChild(docLink);\n",
              "      }\n",
              "    </script>\n",
              "  </div>\n",
              "\n",
              "\n",
              "<div id=\"df-5f1f8e69-18fd-46ff-90b3-b6ba4eeab8bb\">\n",
              "  <button class=\"colab-df-quickchart\" onclick=\"quickchart('df-5f1f8e69-18fd-46ff-90b3-b6ba4eeab8bb')\"\n",
              "            title=\"Suggest charts\"\n",
              "            style=\"display:none;\">\n",
              "\n",
              "<svg xmlns=\"http://www.w3.org/2000/svg\" height=\"24px\"viewBox=\"0 0 24 24\"\n",
              "     width=\"24px\">\n",
              "    <g>\n",
              "        <path d=\"M19 3H5c-1.1 0-2 .9-2 2v14c0 1.1.9 2 2 2h14c1.1 0 2-.9 2-2V5c0-1.1-.9-2-2-2zM9 17H7v-7h2v7zm4 0h-2V7h2v10zm4 0h-2v-4h2v4z\"/>\n",
              "    </g>\n",
              "</svg>\n",
              "  </button>\n",
              "\n",
              "<style>\n",
              "  .colab-df-quickchart {\n",
              "      --bg-color: #E8F0FE;\n",
              "      --fill-color: #1967D2;\n",
              "      --hover-bg-color: #E2EBFA;\n",
              "      --hover-fill-color: #174EA6;\n",
              "      --disabled-fill-color: #AAA;\n",
              "      --disabled-bg-color: #DDD;\n",
              "  }\n",
              "\n",
              "  [theme=dark] .colab-df-quickchart {\n",
              "      --bg-color: #3B4455;\n",
              "      --fill-color: #D2E3FC;\n",
              "      --hover-bg-color: #434B5C;\n",
              "      --hover-fill-color: #FFFFFF;\n",
              "      --disabled-bg-color: #3B4455;\n",
              "      --disabled-fill-color: #666;\n",
              "  }\n",
              "\n",
              "  .colab-df-quickchart {\n",
              "    background-color: var(--bg-color);\n",
              "    border: none;\n",
              "    border-radius: 50%;\n",
              "    cursor: pointer;\n",
              "    display: none;\n",
              "    fill: var(--fill-color);\n",
              "    height: 32px;\n",
              "    padding: 0;\n",
              "    width: 32px;\n",
              "  }\n",
              "\n",
              "  .colab-df-quickchart:hover {\n",
              "    background-color: var(--hover-bg-color);\n",
              "    box-shadow: 0 1px 2px rgba(60, 64, 67, 0.3), 0 1px 3px 1px rgba(60, 64, 67, 0.15);\n",
              "    fill: var(--button-hover-fill-color);\n",
              "  }\n",
              "\n",
              "  .colab-df-quickchart-complete:disabled,\n",
              "  .colab-df-quickchart-complete:disabled:hover {\n",
              "    background-color: var(--disabled-bg-color);\n",
              "    fill: var(--disabled-fill-color);\n",
              "    box-shadow: none;\n",
              "  }\n",
              "\n",
              "  .colab-df-spinner {\n",
              "    border: 2px solid var(--fill-color);\n",
              "    border-color: transparent;\n",
              "    border-bottom-color: var(--fill-color);\n",
              "    animation:\n",
              "      spin 1s steps(1) infinite;\n",
              "  }\n",
              "\n",
              "  @keyframes spin {\n",
              "    0% {\n",
              "      border-color: transparent;\n",
              "      border-bottom-color: var(--fill-color);\n",
              "      border-left-color: var(--fill-color);\n",
              "    }\n",
              "    20% {\n",
              "      border-color: transparent;\n",
              "      border-left-color: var(--fill-color);\n",
              "      border-top-color: var(--fill-color);\n",
              "    }\n",
              "    30% {\n",
              "      border-color: transparent;\n",
              "      border-left-color: var(--fill-color);\n",
              "      border-top-color: var(--fill-color);\n",
              "      border-right-color: var(--fill-color);\n",
              "    }\n",
              "    40% {\n",
              "      border-color: transparent;\n",
              "      border-right-color: var(--fill-color);\n",
              "      border-top-color: var(--fill-color);\n",
              "    }\n",
              "    60% {\n",
              "      border-color: transparent;\n",
              "      border-right-color: var(--fill-color);\n",
              "    }\n",
              "    80% {\n",
              "      border-color: transparent;\n",
              "      border-right-color: var(--fill-color);\n",
              "      border-bottom-color: var(--fill-color);\n",
              "    }\n",
              "    90% {\n",
              "      border-color: transparent;\n",
              "      border-bottom-color: var(--fill-color);\n",
              "    }\n",
              "  }\n",
              "</style>\n",
              "\n",
              "  <script>\n",
              "    async function quickchart(key) {\n",
              "      const quickchartButtonEl =\n",
              "        document.querySelector('#' + key + ' button');\n",
              "      quickchartButtonEl.disabled = true;  // To prevent multiple clicks.\n",
              "      quickchartButtonEl.classList.add('colab-df-spinner');\n",
              "      try {\n",
              "        const charts = await google.colab.kernel.invokeFunction(\n",
              "            'suggestCharts', [key], {});\n",
              "      } catch (error) {\n",
              "        console.error('Error during call to suggestCharts:', error);\n",
              "      }\n",
              "      quickchartButtonEl.classList.remove('colab-df-spinner');\n",
              "      quickchartButtonEl.classList.add('colab-df-quickchart-complete');\n",
              "    }\n",
              "    (() => {\n",
              "      let quickchartButtonEl =\n",
              "        document.querySelector('#df-5f1f8e69-18fd-46ff-90b3-b6ba4eeab8bb button');\n",
              "      quickchartButtonEl.style.display =\n",
              "        google.colab.kernel.accessAllowed ? 'block' : 'none';\n",
              "    })();\n",
              "  </script>\n",
              "</div>\n",
              "\n",
              "    </div>\n",
              "  </div>\n"
            ],
            "application/vnd.google.colaboratory.intrinsic+json": {
              "type": "dataframe",
              "variable_name": "df_train",
              "summary": "{\n  \"name\": \"df_train\",\n  \"rows\": 8400,\n  \"fields\": [\n    {\n      \"column\": \"filename\",\n      \"properties\": {\n        \"dtype\": \"string\",\n        \"num_unique_values\": 8400,\n        \"samples\": [\n          \"/content/split_data/train/Agriculture/791.jpg\",\n          \"/content/split_data/train/Mountain/161.jpg\",\n          \"/content/split_data/train/Lake/490.jpg\"\n        ],\n        \"semantic_type\": \"\",\n        \"description\": \"\"\n      }\n    },\n    {\n      \"column\": \"class\",\n      \"properties\": {\n        \"dtype\": \"category\",\n        \"num_unique_values\": 15,\n        \"samples\": [\n          \"Mountain\",\n          \"Port\",\n          \"Agriculture\"\n        ],\n        \"semantic_type\": \"\",\n        \"description\": \"\"\n      }\n    },\n    {\n      \"column\": \"label\",\n      \"properties\": {\n        \"dtype\": \"number\",\n        \"std\": 4,\n        \"min\": 0,\n        \"max\": 14,\n        \"num_unique_values\": 15,\n        \"samples\": [\n          9,\n          11,\n          0\n        ],\n        \"semantic_type\": \"\",\n        \"description\": \"\"\n      }\n    }\n  ]\n}"
            }
          },
          "metadata": {},
          "execution_count": 7
        }
      ],
      "source": [
        "# Read the data set and create a data table\n",
        "def create_df(root):\n",
        "    label = 0\n",
        "    label_list = []\n",
        "    filepath_list = []\n",
        "    class_list = []\n",
        "\n",
        "    for class_name in sorted(os.listdir(root)):\n",
        "        class_path = os.path.join(root, class_name)\n",
        "        if not os.path.isdir(class_path):\n",
        "            continue\n",
        "\n",
        "        for filename in os.listdir(class_path):\n",
        "            image_path = os.path.join(class_path, filename)\n",
        "            filepath_list.append(image_path)\n",
        "            class_list.append(class_name)\n",
        "            label_list.append(label)\n",
        "        label += 1\n",
        "\n",
        "    return pd.DataFrame({\n",
        "        \"filename\": filepath_list,\n",
        "        \"class\": class_list,\n",
        "        \"label\": label_list\n",
        "    })\n",
        "\n",
        "df_train = create_df('/content/split_data/train')\n",
        "df_val = create_df('/content/split_data/val')\n",
        "df_test = create_df('/content/split_data/test')\n",
        "\n",
        "print(\"Create df successfully！\")\n",
        "df_train.head()\n"
      ]
    },
    {
      "cell_type": "code",
      "source": [
        "# Calculating Class Weights\n",
        "\n",
        "# Get the labels of all training sets\n",
        "all_labels = df_train['label'].to_numpy()\n",
        "\n",
        "# Get the labels of all training sets\n",
        "class_weights = compute_class_weight(class_weight='balanced', classes=np.unique(all_labels), y=all_labels)\n",
        "\n",
        "# Convert to PyTorch Tensor and throw it to GPU\n",
        "class_weights = torch.tensor(class_weights, dtype=torch.float).to(device)"
      ],
      "metadata": {
        "id": "gzRuf7Y1kGYc"
      },
      "execution_count": 20,
      "outputs": []
    },
    {
      "cell_type": "code",
      "execution_count": 21,
      "metadata": {
        "id": "9pUEtknt0hqe"
      },
      "outputs": [],
      "source": [
        "# Define image preprocessing\n",
        "mean = [0.485, 0.456, 0.406]\n",
        "std = [0.229, 0.224, 0.225]\n",
        "normalize = transforms.Normalize(mean, std)\n",
        "\n",
        "resize_H, resized_W = 224,224\n",
        "resize = transforms.Resize([resize_H, resized_W])\n",
        "\n",
        "transformations_train = transforms.Compose([resize,\n",
        "                                    tfs.RandomHorizontalFlip(0.2),\n",
        "                                    tfs.ColorJitter(brightness=0.5, contrast=0.5, hue=0.5),\n",
        "                                    transforms.ToTensor(),\n",
        "                                    transforms.RandomAffine(0, None, (0.7, 1.1), (0, 30),fill=(127,127,127)),\n",
        "                                    normalize])\n",
        "transformations_test = transforms.Compose([resize,\n",
        "                                    transforms.ToTensor(),\n",
        "                                    normalize])"
      ]
    },
    {
      "cell_type": "code",
      "execution_count": 22,
      "metadata": {
        "id": "BipydD4L0hqf"
      },
      "outputs": [],
      "source": [
        "# Convert image to Tensor\n",
        "from torch.utils.data import Dataset\n",
        "from PIL import Image\n",
        "\n",
        "class ImageDataset(Dataset):\n",
        "    def __init__(self, dataframe, transform=None):\n",
        "        self.dataframe = dataframe\n",
        "        self.transform = transform\n",
        "\n",
        "    def __len__(self):\n",
        "        return len(self.dataframe)\n",
        "\n",
        "    def __getitem__(self, idx):\n",
        "        img_path = self.dataframe.iloc[idx]['filename']\n",
        "        label = self.dataframe.iloc[idx]['label']\n",
        "\n",
        "        # Open the image and convert it to RGB\n",
        "        image = Image.open(img_path).convert('RGB')\n",
        "\n",
        "        if self.transform:\n",
        "            image = self.transform(image)\n",
        "\n",
        "        return image, label\n"
      ]
    },
    {
      "cell_type": "code",
      "source": [
        "# Create Dataset\n",
        "train_dataset = ImageDataset(df_train, transformations_train)\n",
        "val_dataset = ImageDataset(df_val, transformations_test)\n",
        "test_dataset = ImageDataset(df_test, transformations_test)\n",
        "\n",
        "# Create DataLoader (automatic batch loading)\n",
        "batch_size = 64\n",
        "num_workers = 2  # You can set it smaller according to RAM\n",
        "\n",
        "train_loader = DataLoader(train_dataset, batch_size=batch_size, shuffle=True, num_workers=num_workers, drop_last=True)\n",
        "val_loader = DataLoader(val_dataset, batch_size=batch_size, shuffle=False, num_workers=num_workers)\n",
        "test_loader = DataLoader(test_dataset, batch_size=batch_size, shuffle=False, num_workers=num_workers)\n"
      ],
      "metadata": {
        "id": "npdVd00GIFfE"
      },
      "execution_count": 23,
      "outputs": []
    },
    {
      "cell_type": "markdown",
      "metadata": {
        "id": "6gMH3Kmn0hqh"
      },
      "source": [
        "# **RESNET**-18"
      ]
    },
    {
      "cell_type": "code",
      "execution_count": 24,
      "metadata": {
        "colab": {
          "base_uri": "https://localhost:8080/"
        },
        "id": "wTZOvpT60hqi",
        "outputId": "82645df7-f266-457a-88a6-f65b5dd54af4"
      },
      "outputs": [
        {
          "output_type": "stream",
          "name": "stderr",
          "text": [
            "/usr/local/lib/python3.11/dist-packages/torchvision/models/_utils.py:208: UserWarning: The parameter 'pretrained' is deprecated since 0.13 and may be removed in the future, please use 'weights' instead.\n",
            "  warnings.warn(\n",
            "/usr/local/lib/python3.11/dist-packages/torchvision/models/_utils.py:223: UserWarning: Arguments other than a weight enum or `None` for 'weights' are deprecated since 0.13 and may be removed in the future. The current behavior is equivalent to passing `weights=ResNet18_Weights.IMAGENET1K_V1`. You can also use `weights=ResNet18_Weights.DEFAULT` to get the most up-to-date weights.\n",
            "  warnings.warn(msg)\n"
          ]
        }
      ],
      "source": [
        "# Model 1: ResNet18\n",
        "net = models.resnet18(pretrained=True)\n",
        "net.fc =  nn.Linear(net.fc.in_features,15)\n",
        "\n",
        "net.to(device)\n",
        "criterion = nn.CrossEntropyLoss(weight=class_weights)\n",
        "my_lr= 1e-4\n",
        "bs= batch_size\n",
        "epochs = 10\n",
        "\n",
        "optimizer = torch.optim.Adam(net.parameters(), lr=my_lr)"
      ]
    },
    {
      "cell_type": "code",
      "execution_count": 25,
      "metadata": {
        "colab": {
          "base_uri": "https://localhost:8080/"
        },
        "id": "945f_wKj0hqj",
        "outputId": "495ead2e-ca41-4d29-8f76-2462a82a6763"
      },
      "outputs": [
        {
          "output_type": "stream",
          "name": "stdout",
          "text": [
            "Epoch [1/10], Train Loss: 2.3740, Train Accuracy: 0.2201, Valid Loss: 1.7097, Valid Accuracy: 0.3911, Recall: 0.3911, F1-score: 0.3849\n",
            "Epoch [2/10], Train Loss: 1.3781, Train Accuracy: 0.5348, Valid Loss: 1.1571, Valid Accuracy: 0.6256, Recall: 0.6256, F1-score: 0.6153\n",
            "Epoch [3/10], Train Loss: 0.9307, Train Accuracy: 0.6974, Valid Loss: 1.4892, Valid Accuracy: 0.5639, Recall: 0.5639, F1-score: 0.5375\n",
            "Epoch [4/10], Train Loss: 0.7079, Train Accuracy: 0.7700, Valid Loss: 1.7127, Valid Accuracy: 0.4756, Recall: 0.4756, F1-score: 0.4832\n",
            "Epoch [5/10], Train Loss: 0.5689, Train Accuracy: 0.8133, Valid Loss: 1.4822, Valid Accuracy: 0.5683, Recall: 0.5683, F1-score: 0.5279\n",
            "Epoch [6/10], Train Loss: 0.4802, Train Accuracy: 0.8473, Valid Loss: 0.9196, Valid Accuracy: 0.7111, Recall: 0.7111, F1-score: 0.6989\n",
            "Epoch [7/10], Train Loss: 0.3963, Train Accuracy: 0.8724, Valid Loss: 2.2969, Valid Accuracy: 0.4011, Recall: 0.4011, F1-score: 0.3750\n",
            "Epoch [8/10], Train Loss: 0.3578, Train Accuracy: 0.8813, Valid Loss: 2.3174, Valid Accuracy: 0.5350, Recall: 0.5350, F1-score: 0.5266\n",
            "Epoch [9/10], Train Loss: 0.3031, Train Accuracy: 0.9005, Valid Loss: 0.5956, Valid Accuracy: 0.8294, Recall: 0.8294, F1-score: 0.8335\n",
            "Epoch [10/10], Train Loss: 0.2805, Train Accuracy: 0.9073, Valid Loss: 4.9621, Valid Accuracy: 0.2972, Recall: 0.2972, F1-score: 0.2653\n"
          ]
        }
      ],
      "source": [
        "# Model training loop (ResNet18)\n",
        "def train_model():\n",
        "    train_loss, valid_loss = [], []\n",
        "    train_acc, valid_acc = [], []\n",
        "    for epoch in range(epochs):\n",
        "        net.train()\n",
        "        running_train_loss = 0.0\n",
        "        correct_train = 0\n",
        "        total_train = 0\n",
        "\n",
        "        for batch_idx, (data, target) in enumerate(train_loader):\n",
        "            data, target = data.to(device), target.to(device)\n",
        "\n",
        "            optimizer.zero_grad()\n",
        "            outputs = net(data)\n",
        "            loss = criterion(outputs, target)\n",
        "            loss.backward()\n",
        "            optimizer.step()\n",
        "\n",
        "            running_train_loss += loss.item()\n",
        "            _, predicted = torch.max(outputs, 1)\n",
        "            correct_train += (predicted == target).sum().item()\n",
        "            total_train += target.size(0)\n",
        "\n",
        "        train_loss_epoch = running_train_loss / len(train_loader)\n",
        "        train_accuracy = correct_train / total_train\n",
        "        train_loss.append(train_loss_epoch)\n",
        "        train_acc.append(train_accuracy)\n",
        "\n",
        "        net.eval()\n",
        "        all_preds = []\n",
        "        all_labels = []\n",
        "        running_valid_loss = 0.0\n",
        "        correct_valid = 0\n",
        "        total_valid = 0\n",
        "\n",
        "        with torch.no_grad():\n",
        "            for batch_idx, (data, target) in enumerate(val_loader):\n",
        "                data, target = data.to(device), target.to(device)\n",
        "                outputs = net(data)\n",
        "                loss = criterion(outputs, target)\n",
        "\n",
        "                preds = torch.argmax(outputs, dim=1)\n",
        "\n",
        "                all_preds.extend(preds.cpu().numpy())\n",
        "                all_labels.extend(target.cpu().numpy())\n",
        "\n",
        "                running_valid_loss += loss.item()\n",
        "                _, predicted = torch.max(outputs, 1)\n",
        "                correct_valid += (predicted == target).sum().item()\n",
        "                total_valid += target.size(0)\n",
        "\n",
        "        recall = recall_score(all_labels, all_preds, average='macro')\n",
        "        f1 = f1_score(all_labels, all_preds, average='macro')\n",
        "        valid_loss_epoch = running_valid_loss / len(val_loader)\n",
        "        valid_accuracy = correct_valid / total_valid\n",
        "        valid_loss.append(valid_loss_epoch)\n",
        "        valid_acc.append(valid_accuracy)\n",
        "\n",
        "        print(f\"Epoch [{epoch+1}/{epochs}], Train Loss: {train_loss_epoch:.4f}, Train Accuracy: {train_accuracy:.4f}, \"\n",
        "              f\"Valid Loss: {valid_loss_epoch:.4f}, Valid Accuracy: {valid_accuracy:.4f}, \"\n",
        "              f\"Recall: {recall:.4f}, F1-score: {f1:.4f}\")\n",
        "if __name__ == \"__main__\":\n",
        "    train_model()\n"
      ]
    },
    {
      "cell_type": "code",
      "execution_count": 26,
      "metadata": {
        "colab": {
          "base_uri": "https://localhost:8080/"
        },
        "id": "eh9KS4wU0hqj",
        "outputId": "3fec625f-3878-4d1d-b9db-cde08ae584e0"
      },
      "outputs": [
        {
          "output_type": "stream",
          "name": "stdout",
          "text": [
            "Test Loss: 4.9838, Test Accuracy: 0.3000\n",
            "Test Recall: 0.3000\n",
            "Test F1-score: 0.2647\n",
            "Confusion Matrix:\n",
            "[[ 37   0  50   0   0   0   0   0   0   0   0   0  33   0   0]\n",
            " [  0   3  30   0   0   0   0   0   0   0   0   0  87   0   0]\n",
            " [  0   0 114   0   0   0   0   0   0   0   0   0   6   0   0]\n",
            " [  0   0   9   5   0   0   0   0   0   7   0   1  98   0   0]\n",
            " [  0   0  51   0  69   0   0   0   0   0   0   0   0   0   0]\n",
            " [  0   0  89   0   7   2   1   0   0   2   0   0  19   0   0]\n",
            " [  0   0 115   0   1   0   0   0   0   0   0   0   4   0   0]\n",
            " [  0   0  29   0   0   0   0  15   0   0   0   0  76   0   0]\n",
            " [  2   0  65   0   0   0   0   0   2   0   0   1  49   0   1]\n",
            " [  0   0  79   0   4   0   0   0   0  12   0   0  25   0   0]\n",
            " [  0   0   1   0   0   0   0  10   0   0  93   0  16   0   0]\n",
            " [  0   0  12   0   0   0   0   2   0   0   5  62  39   0   0]\n",
            " [  0   0   6   0   0   0   0   0   0   0   0   0 114   0   0]\n",
            " [  0   2  11   1   0   0   0   1   0   1   0   0 103   1   0]\n",
            " [  0   0  78   0   0   0   0   0   0   0   0   0  31   0  11]]\n",
            "Classification Report:\n",
            "              precision    recall  f1-score   support\n",
            "\n",
            "           0     0.9487    0.3083    0.4654       120\n",
            "           1     0.6000    0.0250    0.0480       120\n",
            "           2     0.1543    0.9500    0.2654       120\n",
            "           3     0.8333    0.0417    0.0794       120\n",
            "           4     0.8519    0.5750    0.6866       120\n",
            "           5     1.0000    0.0167    0.0328       120\n",
            "           6     0.0000    0.0000    0.0000       120\n",
            "           7     0.5357    0.1250    0.2027       120\n",
            "           8     1.0000    0.0167    0.0328       120\n",
            "           9     0.5455    0.1000    0.1690       120\n",
            "          10     0.9490    0.7750    0.8532       120\n",
            "          11     0.9688    0.5167    0.6739       120\n",
            "          12     0.1629    0.9500    0.2780       120\n",
            "          13     1.0000    0.0083    0.0165       120\n",
            "          14     0.9167    0.0917    0.1667       120\n",
            "\n",
            "    accuracy                         0.3000      1800\n",
            "   macro avg     0.6978    0.3000    0.2647      1800\n",
            "weighted avg     0.6978    0.3000    0.2647      1800\n",
            "\n"
          ]
        }
      ],
      "source": [
        "# Test model (ResNet18)\n",
        "# Set the model to evaluation mode\n",
        "net.eval()\n",
        "\n",
        "# Initialize variables for test evaluation\n",
        "all_preds = []\n",
        "all_labels = []\n",
        "running_test_loss = 0.0\n",
        "correct_test = 0\n",
        "total_test = 0\n",
        "\n",
        "# Loop through the test data and calculate predictions\n",
        "with torch.no_grad():\n",
        "    for batch_idx, (data, target) in enumerate(test_loader):\n",
        "        data, target = data.to(device), target.to(device)\n",
        "        outputs = net(data)\n",
        "        loss = criterion(outputs, target)\n",
        "\n",
        "        preds = torch.argmax(outputs, dim=1)\n",
        "        all_preds.extend(preds.cpu().numpy())\n",
        "        all_labels.extend(target.cpu().numpy())\n",
        "\n",
        "        running_test_loss += loss.item()\n",
        "        _, predicted = torch.max(outputs, 1)\n",
        "        correct_test += (predicted == target).sum().item()\n",
        "        total_test += target.size(0)\n",
        "\n",
        "# Calculate metrics\n",
        "test_loss = running_test_loss / len(test_loader)\n",
        "test_accuracy = correct_test / total_test\n",
        "test_recall = recall_score(all_labels, all_preds, average='macro')\n",
        "test_f1 = f1_score(all_labels, all_preds, average='macro')\n",
        "\n",
        "# Calculate confusion matrix\n",
        "cm = confusion_matrix(all_labels, all_preds)\n",
        "\n",
        "# Print results\n",
        "print(f\"Test Loss: {test_loss:.4f}, Test Accuracy: {test_accuracy:.4f}\")\n",
        "print(f\"Test Recall: {test_recall:.4f}\")\n",
        "print(f\"Test F1-score: {test_f1:.4f}\")\n",
        "print(f\"Confusion Matrix:\\n{cm}\")\n",
        "print(f\"Classification Report:\\n{classification_report(all_labels, all_preds, digits=4)}\")"
      ]
    },
    {
      "cell_type": "code",
      "source": [
        "# Save the ResNet's results into variables and finally draw a comparison picture\n",
        "resnet_test_results = {\n",
        "    'name': 'ResNet18',\n",
        "    'accuracy': test_accuracy,\n",
        "    'recall': test_recall,\n",
        "    'f1': test_f1,\n",
        "    'loss': test_loss\n",
        "}"
      ],
      "metadata": {
        "id": "QXUUikH0fqRP"
      },
      "execution_count": 27,
      "outputs": []
    },
    {
      "cell_type": "markdown",
      "metadata": {
        "id": "z6eHN1LZ0hqj"
      },
      "source": [
        "# **Efficientnet_b0**"
      ]
    },
    {
      "cell_type": "code",
      "execution_count": 28,
      "metadata": {
        "colab": {
          "base_uri": "https://localhost:8080/"
        },
        "id": "lFNotzQU0hqk",
        "outputId": "1c659779-4c21-416e-e21c-9ecbd4dfe43f"
      },
      "outputs": [
        {
          "output_type": "stream",
          "name": "stderr",
          "text": [
            "/usr/local/lib/python3.11/dist-packages/torchvision/models/_utils.py:208: UserWarning: The parameter 'pretrained' is deprecated since 0.13 and may be removed in the future, please use 'weights' instead.\n",
            "  warnings.warn(\n",
            "/usr/local/lib/python3.11/dist-packages/torchvision/models/_utils.py:223: UserWarning: Arguments other than a weight enum or `None` for 'weights' are deprecated since 0.13 and may be removed in the future. The current behavior is equivalent to passing `weights=EfficientNet_B0_Weights.IMAGENET1K_V1`. You can also use `weights=EfficientNet_B0_Weights.DEFAULT` to get the most up-to-date weights.\n",
            "  warnings.warn(msg)\n",
            "Downloading: \"https://download.pytorch.org/models/efficientnet_b0_rwightman-7f5810bc.pth\" to /root/.cache/torch/hub/checkpoints/efficientnet_b0_rwightman-7f5810bc.pth\n",
            "100%|██████████| 20.5M/20.5M [00:00<00:00, 143MB/s]\n"
          ]
        },
        {
          "output_type": "stream",
          "name": "stdout",
          "text": [
            "Epoch [1/10], Train Loss: 2.2994, Train Accuracy: 0.2663, Valid Loss: 1.5018, Valid Accuracy: 0.5189, Recall: 0.5189, F1-score: 0.5012\n",
            "Epoch [2/10], Train Loss: 1.3339, Train Accuracy: 0.5698, Valid Loss: 0.8052, Valid Accuracy: 0.7550, Recall: 0.7550, F1-score: 0.7523\n",
            "Epoch [3/10], Train Loss: 0.9509, Train Accuracy: 0.6914, Valid Loss: 0.5612, Valid Accuracy: 0.8278, Recall: 0.8278, F1-score: 0.8287\n",
            "Epoch [4/10], Train Loss: 0.7158, Train Accuracy: 0.7737, Valid Loss: 0.4996, Valid Accuracy: 0.8356, Recall: 0.8356, F1-score: 0.8370\n",
            "Epoch [5/10], Train Loss: 0.5934, Train Accuracy: 0.8075, Valid Loss: 0.3607, Valid Accuracy: 0.8911, Recall: 0.8911, F1-score: 0.8906\n",
            "Epoch [6/10], Train Loss: 0.5000, Train Accuracy: 0.8381, Valid Loss: 0.6413, Valid Accuracy: 0.7817, Recall: 0.7817, F1-score: 0.7828\n",
            "Epoch [7/10], Train Loss: 0.4353, Train Accuracy: 0.8575, Valid Loss: 0.2604, Valid Accuracy: 0.9244, Recall: 0.9244, F1-score: 0.9241\n",
            "Epoch [8/10], Train Loss: 0.3805, Train Accuracy: 0.8744, Valid Loss: 0.9885, Valid Accuracy: 0.6983, Recall: 0.6983, F1-score: 0.6950\n",
            "Epoch [9/10], Train Loss: 0.3425, Train Accuracy: 0.8891, Valid Loss: 0.3858, Valid Accuracy: 0.8739, Recall: 0.8739, F1-score: 0.8690\n",
            "Epoch [10/10], Train Loss: 0.3109, Train Accuracy: 0.9006, Valid Loss: 0.2464, Valid Accuracy: 0.9272, Recall: 0.9272, F1-score: 0.9269\n"
          ]
        }
      ],
      "source": [
        "# Model 2: EfficientNet-B0\n",
        "net = models.efficientnet_b0(pretrained=True)\n",
        "\n",
        "net.classifier[1] = nn.Linear(net.classifier[1].in_features, 15)\n",
        "\n",
        "\n",
        "net.to(device)\n",
        "\n",
        "criterion = nn.CrossEntropyLoss(weight=class_weights)\n",
        "my_lr = 1e-4\n",
        "optimizer = torch.optim.Adam(net.parameters(), lr=my_lr)\n",
        "\n",
        "epochs = 10\n",
        "\n",
        "train_loss, valid_loss = [], []\n",
        "train_acc, valid_acc = [], []\n",
        "\n",
        "for epoch in range(epochs):\n",
        "    net.train()\n",
        "    running_train_loss = 0.0\n",
        "    correct_train = 0\n",
        "    total_train = 0\n",
        "\n",
        "    for batch_idx, (data, target) in enumerate(train_loader):\n",
        "        data, target = data.to(device), target.to(device)\n",
        "\n",
        "        optimizer.zero_grad()\n",
        "        outputs = net(data)\n",
        "        loss = criterion(outputs, target)\n",
        "        loss.backward()\n",
        "        optimizer.step()\n",
        "\n",
        "        running_train_loss += loss.item()\n",
        "        _, predicted = torch.max(outputs, 1)\n",
        "        correct_train += (predicted == target).sum().item()\n",
        "        total_train += target.size(0)\n",
        "\n",
        "    train_loss_epoch = running_train_loss / len(train_loader)\n",
        "    train_accuracy = correct_train / total_train\n",
        "    train_loss.append(train_loss_epoch)\n",
        "    train_acc.append(train_accuracy)\n",
        "\n",
        "\n",
        "    net.eval()\n",
        "    all_preds = []\n",
        "    all_labels = []\n",
        "    running_valid_loss = 0.0\n",
        "    correct_valid = 0\n",
        "    total_valid = 0\n",
        "\n",
        "    with torch.no_grad():\n",
        "        for batch_idx, (data, target) in enumerate(val_loader):\n",
        "            data, target = data.to(device), target.to(device)\n",
        "            outputs = net(data)\n",
        "            loss = criterion(outputs, target)\n",
        "\n",
        "            preds = torch.argmax(outputs, dim=1)\n",
        "            all_preds.extend(preds.cpu().numpy())\n",
        "            all_labels.extend(target.cpu().numpy())\n",
        "\n",
        "            running_valid_loss += loss.item()\n",
        "            _, predicted = torch.max(outputs, 1)\n",
        "            correct_valid += (predicted == target).sum().item()\n",
        "            total_valid += target.size(0)\n",
        "\n",
        "    recall = recall_score(all_labels, all_preds, average='macro')\n",
        "    f1 = f1_score(all_labels, all_preds, average='macro')\n",
        "    valid_loss_epoch = running_valid_loss / len(val_loader)\n",
        "    valid_accuracy = correct_valid / total_valid\n",
        "    valid_loss.append(valid_loss_epoch)\n",
        "    valid_acc.append(valid_accuracy)\n",
        "\n",
        "    print(f\"Epoch [{epoch+1}/{epochs}], Train Loss: {train_loss_epoch:.4f}, Train Accuracy: {train_accuracy:.4f}, \"\n",
        "          f\"Valid Loss: {valid_loss_epoch:.4f}, Valid Accuracy: {valid_accuracy:.4f}, \"\n",
        "          f\"Recall: {recall:.4f}, F1-score: {f1:.4f}\")"
      ]
    },
    {
      "cell_type": "code",
      "execution_count": 29,
      "metadata": {
        "colab": {
          "base_uri": "https://localhost:8080/"
        },
        "id": "lIChdhio0hqk",
        "outputId": "3a75d431-708b-4402-d6e7-f95cf0788a66"
      },
      "outputs": [
        {
          "output_type": "stream",
          "name": "stdout",
          "text": [
            "Test Loss: 0.2283, Test Accuracy: 0.9322\n",
            "Test Recall: 0.9322\n",
            "Test F1-score: 0.9321\n",
            "Confusion Matrix:\n",
            "[[113   2   0   0   0   0   3   0   0   1   0   0   0   0   1]\n",
            " [  1 108   0   3   0   0   0   0   0   0   0   0   7   0   1]\n",
            " [  0   0 118   1   0   0   0   0   0   0   0   0   0   0   1]\n",
            " [  0   0   0 115   0   0   0   0   0   0   0   1   4   0   0]\n",
            " [  1   0   2   2  96   0   1   0   2  16   0   0   0   0   0]\n",
            " [  0   1   0   0   0 114   2   0   1   0   0   1   0   1   0]\n",
            " [  5   0   0   0   1   2 108   0   1   0   0   0   0   0   3]\n",
            " [  0   2   0   0   0   0   0 113   0   0   0   0   3   1   1]\n",
            " [  3   0   1   0   0   0   1   0 111   0   0   0   0   0   4]\n",
            " [  1   1   0   0   1   1   0   1   0 109   0   0   0   0   6]\n",
            " [  0   0   1   1   0   0   0   0   0   0 117   1   0   0   0]\n",
            " [  1   1   2   0   0   0   0   0   1   0   0 115   0   0   0]\n",
            " [  0   4   0   1   0   0   0   1   0   0   0   0 114   0   0]\n",
            " [  0   0   0   2   0   0   0   0   0   0   0   0   0 118   0]\n",
            " [  3   0   1   0   0   1   0   3   3   0   0   0   0   0 109]]\n",
            "Classification Report:\n",
            "              precision    recall  f1-score   support\n",
            "\n",
            "           0     0.8828    0.9417    0.9113       120\n",
            "           1     0.9076    0.9000    0.9038       120\n",
            "           2     0.9440    0.9833    0.9633       120\n",
            "           3     0.9200    0.9583    0.9388       120\n",
            "           4     0.9796    0.8000    0.8807       120\n",
            "           5     0.9661    0.9500    0.9580       120\n",
            "           6     0.9391    0.9000    0.9191       120\n",
            "           7     0.9576    0.9417    0.9496       120\n",
            "           8     0.9328    0.9250    0.9289       120\n",
            "           9     0.8651    0.9083    0.8862       120\n",
            "          10     1.0000    0.9750    0.9873       120\n",
            "          11     0.9746    0.9583    0.9664       120\n",
            "          12     0.8906    0.9500    0.9194       120\n",
            "          13     0.9833    0.9833    0.9833       120\n",
            "          14     0.8651    0.9083    0.8862       120\n",
            "\n",
            "    accuracy                         0.9322      1800\n",
            "   macro avg     0.9339    0.9322    0.9321      1800\n",
            "weighted avg     0.9339    0.9322    0.9321      1800\n",
            "\n"
          ]
        }
      ],
      "source": [
        "# Test model (EfficientNet-B0)\n",
        "# Set the model to evaluation mode\n",
        "net.eval()\n",
        "\n",
        "# Initialize variables for test evaluation\n",
        "all_preds = []\n",
        "all_labels = []\n",
        "running_test_loss = 0.0\n",
        "correct_test = 0\n",
        "total_test = 0\n",
        "\n",
        "# Loop through the test data and calculate predictions\n",
        "with torch.no_grad():\n",
        "    for batch_idx, (data, target) in enumerate(test_loader):\n",
        "        data, target = data.to(device), target.to(device)\n",
        "        outputs = net(data)\n",
        "        loss = criterion(outputs, target)\n",
        "\n",
        "        preds = torch.argmax(outputs, dim=1)\n",
        "        all_preds.extend(preds.cpu().numpy())\n",
        "        all_labels.extend(target.cpu().numpy())\n",
        "\n",
        "        running_test_loss += loss.item()\n",
        "        _, predicted = torch.max(outputs, 1)\n",
        "        correct_test += (predicted == target).sum().item()\n",
        "        total_test += target.size(0)\n",
        "\n",
        "# Calculate metrics\n",
        "test_loss = running_test_loss / len(test_loader)\n",
        "test_accuracy = correct_test / total_test\n",
        "test_recall = recall_score(all_labels, all_preds, average='macro')\n",
        "test_f1 = f1_score(all_labels, all_preds, average='macro')\n",
        "\n",
        "# Calculate confusion matrix\n",
        "cm = confusion_matrix(all_labels, all_preds)\n",
        "\n",
        "# Print results\n",
        "print(f\"Test Loss: {test_loss:.4f}, Test Accuracy: {test_accuracy:.4f}\")\n",
        "print(f\"Test Recall: {test_recall:.4f}\")\n",
        "print(f\"Test F1-score: {test_f1:.4f}\")\n",
        "print(f\"Confusion Matrix:\\n{cm}\")\n",
        "print(f\"Classification Report:\\n{classification_report(all_labels, all_preds, digits=4)}\")"
      ]
    },
    {
      "cell_type": "code",
      "source": [
        "# Save the Efficientnet's results into variables and finally draw a comparison picture\n",
        "efficientnet_test_results = {\n",
        "    'name': 'EfficientNetB0',\n",
        "    'accuracy': test_accuracy,\n",
        "    'recall': test_recall,\n",
        "    'f1': test_f1,\n",
        "    'loss': test_loss\n",
        "}"
      ],
      "metadata": {
        "id": "zazukOjAfw_G"
      },
      "execution_count": 30,
      "outputs": []
    },
    {
      "cell_type": "markdown",
      "source": [
        "# **Comparative picture**"
      ],
      "metadata": {
        "id": "4guN5a53oDLa"
      }
    },
    {
      "cell_type": "code",
      "execution_count": 31,
      "metadata": {
        "colab": {
          "base_uri": "https://localhost:8080/",
          "height": 421
        },
        "id": "PS4Tgxe00hqk",
        "outputId": "b66dce39-d188-467d-fb97-229f86ee1e5f"
      },
      "outputs": [
        {
          "output_type": "stream",
          "name": "stderr",
          "text": [
            "/usr/local/lib/python3.11/dist-packages/IPython/core/pylabtools.py:151: UserWarning: Glyph 128202 (\\N{BAR CHART}) missing from font(s) DejaVu Sans.\n",
            "  fig.canvas.print_figure(bytes_io, **kw)\n"
          ]
        },
        {
          "output_type": "display_data",
          "data": {
            "text/plain": [
              "<Figure size 1000x500 with 1 Axes>"
            ],
            "image/png": "[encoded data removed]"
          },
          "metadata": {}
        }
      ],
      "source": [
        "# Plotting to compare the effectiveness of two models\n",
        "def plot_test_metrics(resnet_results, efficientnet_results):\n",
        "    metrics = ['accuracy', 'recall', 'f1', 'loss']\n",
        "    resnet_values = [resnet_results[m] for m in metrics]\n",
        "    effnet_values = [efficientnet_results[m] for m in metrics]\n",
        "\n",
        "    x = range(len(metrics))\n",
        "    plt.figure(figsize=(10, 5))\n",
        "    bar_width = 0.35\n",
        "\n",
        "    plt.bar([i - bar_width/2 for i in x], resnet_values, width=bar_width, label='ResNet18')\n",
        "    plt.bar([i + bar_width/2 for i in x], effnet_values, width=bar_width, label='EfficientNetB0')\n",
        "\n",
        "    plt.xticks(ticks=x, labels=[m.capitalize() for m in metrics])\n",
        "    plt.ylabel(\"Score\")\n",
        "    plt.title(\"📊 Model Test Performance Comparison\")\n",
        "    plt.legend()\n",
        "    plt.grid(axis='y', linestyle='--', alpha=0.6)\n",
        "    plt.show()\n",
        "plot_test_metrics(resnet_test_results, efficientnet_test_results)\n",
        "\n"
      ]
    }
  ],
  "metadata": {
    "kernelspec": {
      "display_name": "Python 3",
      "name": "python3"
    },
    "language_info": {
      "codemirror_mode": {
        "name": "ipython",
        "version": 3
      },
      "file_extension": ".py",
      "mimetype": "text/x-python",
      "name": "python",
      "nbconvert_exporter": "python",
      "pygments_lexer": "ipython3",
      "version": "3.8.20"
    },
    "colab": {
      "provenance": [],
      "gpuType": "T4"
    },
    "accelerator": "GPU"
  },
  "nbformat": 4,
  "nbformat_minor": 0
}