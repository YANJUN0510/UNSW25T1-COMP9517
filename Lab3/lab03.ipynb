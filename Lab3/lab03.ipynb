{
 "cells": [
  {
   "cell_type": "code",
   "execution_count": null,
   "id": "9fa9cf1e-c176-4949-8c2d-ffe19fceb89a",
   "metadata": {},
   "outputs": [],
   "source": [
    "import os\n",
    "import cv2\n",
    "import numpy as np\n",
    "import pandas as pd\n",
    "import matplotlib.pyplot as plt\n",
    "from sklearn.model_selection import train_test_split\n",
    "from sklearn.model_selection import train_test_split\n",
    "from sklearn.neighbors import KNeighborsClassifier\n",
    "from sklearn.linear_model import LogisticRegression \n",
    "from sklearn.tree import DecisionTreeClassifier\n",
    "from sklearn.linear_model import SGDClassifier\n",
    "from sklearn.ensemble import RandomForestClassifier\n",
    "from sklearn.svm import SVC\n",
    "from sklearn.metrics import accuracy_score\n",
    "from sklearn.metrics import confusion_matrix\n",
    "from sklearn.neighbors import KNeighborsClassifier\n",
    "from sklearn.tree import DecisionTreeClassifier\n",
    "from sklearn.linear_model import SGDClassifier\n",
    "from sklearn import metrics\n"
   ]
  },
  {
   "cell_type": "code",
   "execution_count": 55,
   "id": "e676325f-7bfb-4ba9-8ccc-c8715a05e5cc",
   "metadata": {},
   "outputs": [],
   "source": [
    "index_df = pd.read_csv('Chinese_MINST_Dataset/chinese_mnist.csv')"
   ]
  },
  {
   "cell_type": "code",
   "execution_count": 56,
   "id": "7703cadd-f49c-4824-b13c-dff2a10a2279",
   "metadata": {},
   "outputs": [
    {
     "data": {
      "text/html": [
       "<div>\n",
       "<style scoped>\n",
       "    .dataframe tbody tr th:only-of-type {\n",
       "        vertical-align: middle;\n",
       "    }\n",
       "\n",
       "    .dataframe tbody tr th {\n",
       "        vertical-align: top;\n",
       "    }\n",
       "\n",
       "    .dataframe thead th {\n",
       "        text-align: right;\n",
       "    }\n",
       "</style>\n",
       "<table border=\"1\" class=\"dataframe\">\n",
       "  <thead>\n",
       "    <tr style=\"text-align: right;\">\n",
       "      <th></th>\n",
       "      <th>suite_id</th>\n",
       "      <th>sample_id</th>\n",
       "      <th>code</th>\n",
       "      <th>value</th>\n",
       "      <th>character</th>\n",
       "      <th>file</th>\n",
       "    </tr>\n",
       "  </thead>\n",
       "  <tbody>\n",
       "    <tr>\n",
       "      <th>0</th>\n",
       "      <td>1</td>\n",
       "      <td>1</td>\n",
       "      <td>10</td>\n",
       "      <td>9</td>\n",
       "      <td>九</td>\n",
       "      <td>input_1_1_10.jpg</td>\n",
       "    </tr>\n",
       "    <tr>\n",
       "      <th>1</th>\n",
       "      <td>1</td>\n",
       "      <td>10</td>\n",
       "      <td>10</td>\n",
       "      <td>9</td>\n",
       "      <td>九</td>\n",
       "      <td>input_1_10_10.jpg</td>\n",
       "    </tr>\n",
       "    <tr>\n",
       "      <th>2</th>\n",
       "      <td>1</td>\n",
       "      <td>2</td>\n",
       "      <td>10</td>\n",
       "      <td>9</td>\n",
       "      <td>九</td>\n",
       "      <td>input_1_2_10.jpg</td>\n",
       "    </tr>\n",
       "    <tr>\n",
       "      <th>3</th>\n",
       "      <td>1</td>\n",
       "      <td>3</td>\n",
       "      <td>10</td>\n",
       "      <td>9</td>\n",
       "      <td>九</td>\n",
       "      <td>input_1_3_10.jpg</td>\n",
       "    </tr>\n",
       "    <tr>\n",
       "      <th>4</th>\n",
       "      <td>1</td>\n",
       "      <td>4</td>\n",
       "      <td>10</td>\n",
       "      <td>9</td>\n",
       "      <td>九</td>\n",
       "      <td>input_1_4_10.jpg</td>\n",
       "    </tr>\n",
       "  </tbody>\n",
       "</table>\n",
       "</div>"
      ],
      "text/plain": [
       "   suite_id  sample_id  code  value character               file\n",
       "0         1          1    10      9         九   input_1_1_10.jpg\n",
       "1         1         10    10      9         九  input_1_10_10.jpg\n",
       "2         1          2    10      9         九   input_1_2_10.jpg\n",
       "3         1          3    10      9         九   input_1_3_10.jpg\n",
       "4         1          4    10      9         九   input_1_4_10.jpg"
      ]
     },
     "execution_count": 56,
     "metadata": {},
     "output_type": "execute_result"
    }
   ],
   "source": [
    "def create_file_name(x):\n",
    "    file_name = f\"input_{x.iloc[0]}_{x.iloc[1]}_{x.iloc[2]}.jpg\"\n",
    "    return file_name\n",
    "\n",
    "index_df[\"file\"] = index_df.apply(create_file_name, axis=1)\n",
    "\n",
    "index_df.head()"
   ]
  },
  {
   "cell_type": "code",
   "execution_count": 57,
   "id": "933030fc-8cf1-4b62-874e-a81578a31436",
   "metadata": {},
   "outputs": [],
   "source": [
    "images = []\n",
    "labels = []"
   ]
  },
  {
   "cell_type": "code",
   "execution_count": 58,
   "id": "c98504ec-0d5f-40d6-a05e-2f631804bcea",
   "metadata": {},
   "outputs": [],
   "source": [
    "img_root = 'Chinese_MINST_Dataset/data/data/'"
   ]
  },
  {
   "cell_type": "code",
   "execution_count": 59,
   "id": "01f73b05-c08e-4745-8a7d-303eccd5030a",
   "metadata": {},
   "outputs": [],
   "source": [
    "for index, row in index_df. iterrows():\n",
    "    image_path = img_root + row['file']\n",
    "    image = cv2. imread (image_path, 0)\n",
    "    images.append (image)\n",
    "    label = row['code'] - 1\n",
    "    labels.append (label)"
   ]
  },
  {
   "cell_type": "code",
   "execution_count": null,
   "id": "83bcb541-64de-461e-b194-3fbdc960dcd0",
   "metadata": {},
   "outputs": [
    {
     "data": {
      "text/plain": [
       "15000"
      ]
     },
     "execution_count": 60,
     "metadata": {},
     "output_type": "execute_result"
    }
   ],
   "source": [
    "len(images)"
   ]
  },
  {
   "cell_type": "code",
   "execution_count": 61,
   "id": "001ae702-c517-4a58-b78f-b632fb24a80d",
   "metadata": {},
   "outputs": [
    {
     "data": {
      "text/plain": [
       "(64, 64)"
      ]
     },
     "execution_count": 61,
     "metadata": {},
     "output_type": "execute_result"
    }
   ],
   "source": [
    "images[0].shape"
   ]
  },
  {
   "cell_type": "code",
   "execution_count": null,
   "id": "997f86e8-4eeb-4c16-a3fc-ffa1408bda3c",
   "metadata": {},
   "outputs": [],
   "source": [
    "plt.imshow(images[0], 'gray')"
   ]
  },
  {
   "cell_type": "code",
   "execution_count": null,
   "id": "1b90fee9-b1ee-475b-9651-b24339fdb5ef",
   "metadata": {},
   "outputs": [
    {
     "data": {
      "text/plain": [
       "9"
      ]
     },
     "execution_count": 63,
     "metadata": {},
     "output_type": "execute_result"
    }
   ],
   "source": [
    "labels[0]"
   ]
  },
  {
   "cell_type": "code",
   "execution_count": 65,
   "id": "21120d75-8b4c-4e54-a7ee-237cf33bd3b2",
   "metadata": {},
   "outputs": [],
   "source": [
    "images = np.array(images)\n",
    "labels = np.array(labels)"
   ]
  },
  {
   "cell_type": "code",
   "execution_count": null,
   "id": "bed3786d-13f5-4028-a542-c264a9c3a3fc",
   "metadata": {},
   "outputs": [],
   "source": [
    "train_images, test_images, train_labels, test_labels = train_test_split(\n",
    "    images, \n",
    "    labels, \n",
    "    test_size=0.2, \n",
    "    random_state=42, \n",
    "    stratify=labels\n",
    ")\n",
    "\n",
    "fig, axes = plt.subplots(10, 10, figsize=(8, 8), \n",
    "                         subplot_kw={'xticks': [], 'yticks': []},\n",
    "                         gridspec_kw={'hspace': 0.1, 'wspace': 0.1})\n",
    "\n",
    "for i, ax in enumerate(axes.flat):\n",
    "    ax.imshow(train_images[i], cmap='binary', interpolation='nearest')\n",
    "    ax.text(0.05, 0.05, str(train_labels[i]), transform=ax.transAxes, color='green')\n"
   ]
  },
  {
   "cell_type": "code",
   "execution_count": 67,
   "id": "e56bec33-65c2-40f2-a783-b428abaee91e",
   "metadata": {},
   "outputs": [
    {
     "name": "stdout",
     "output_type": "stream",
     "text": [
      "Total images loaded: 15000\n",
      "Train images shape: (12000, 64, 64)\n",
      "Test images shape: (3000, 64, 64)\n",
      "Train labels shape: (12000,)\n",
      "Test labels shape: (3000,)\n"
     ]
    }
   ],
   "source": [
    "print(f\"Total images loaded: {len(images)}\")\n",
    "print(f\"Train images shape: {train_images.shape}\")\n",
    "print(f\"Test images shape: {test_images.shape}\")\n",
    "print(f\"Train labels shape: {train_labels.shape}\")\n",
    "print(f\"Test labels shape: {test_labels.shape}\")\n"
   ]
  },
  {
   "cell_type": "markdown",
   "id": "b08d8bb4-3c52-4cc3-9546-ef3fc03785db",
   "metadata": {},
   "source": [
    "First  \n",
    "train_size = 5000\n",
    "     test_size =1000"
   ]
  },
  {
   "cell_type": "code",
   "execution_count": 68,
   "id": "2660c096-f19a-4dd5-bb2e-a13e090d2071",
   "metadata": {},
   "outputs": [],
   "source": [
    "train_size = 5000\n",
    "test_size = 1000"
   ]
  },
  {
   "cell_type": "code",
   "execution_count": 69,
   "id": "2986c322-f11b-4146-ae69-f82adc0de640",
   "metadata": {},
   "outputs": [],
   "source": [
    "train_x = train_images[:train_size, :, :]     \n",
    "train_y = train_labels[:train_size]            \n",
    "test_x = test_images[:test_size, :, :]         \n",
    "test_y = test_labels[:test_size]      "
   ]
  },
  {
   "cell_type": "code",
   "execution_count": 70,
   "id": "6f6d6a54-0255-4566-8aa6-d5bf1c2b92cd",
   "metadata": {},
   "outputs": [
    {
     "data": {
      "text/plain": [
       "(5000, 64, 64)"
      ]
     },
     "execution_count": 70,
     "metadata": {},
     "output_type": "execute_result"
    }
   ],
   "source": [
    "train_x.shape"
   ]
  },
  {
   "cell_type": "code",
   "execution_count": 71,
   "id": "1b0d6dfa-af71-49b1-af63-8cdc75d39bfe",
   "metadata": {},
   "outputs": [
    {
     "data": {
      "text/plain": [
       "(3000, 64, 64)"
      ]
     },
     "execution_count": 71,
     "metadata": {},
     "output_type": "execute_result"
    }
   ],
   "source": [
    "test_images.shape"
   ]
  },
  {
   "cell_type": "code",
   "execution_count": 73,
   "id": "cf66863c-2a27-4529-b85c-c13893d0eaab",
   "metadata": {},
   "outputs": [
    {
     "name": "stdout",
     "output_type": "stream",
     "text": [
      "(5000, 64, 64)\n",
      "(1000, 64, 64)\n"
     ]
    }
   ],
   "source": [
    "print(train_x.shape)\n",
    "print(test_x.shape)"
   ]
  },
  {
   "cell_type": "code",
   "execution_count": 74,
   "id": "c6a37e4b-bfeb-4d81-8361-6112f0cf742f",
   "metadata": {},
   "outputs": [],
   "source": [
    "x_train = train_x[:5000].reshape(5000, -1)\n",
    "x_test = test_x.reshape(1000, -1)  "
   ]
  },
  {
   "cell_type": "markdown",
   "id": "7a2fab4b-eff0-4b78-a319-88b6cfdc02ca",
   "metadata": {},
   "source": [
    "KNN"
   ]
  },
  {
   "cell_type": "code",
   "execution_count": null,
   "id": "c91329fa-37bb-4059-ba2e-e92fab3c4ef8",
   "metadata": {},
   "outputs": [],
   "source": [
    "knn_clf = KNeighborsClassifier(n_neighbors=3)\n",
    "knn_clf.fit(x_train, train_y)\n",
    "predict_y = knn_clf.predict(x_test)"
   ]
  },
  {
   "cell_type": "code",
   "execution_count": 76,
   "id": "10d3430f-45dc-49dd-9b23-b1dd7f5f17e6",
   "metadata": {},
   "outputs": [],
   "source": [
    "from sklearn import metrics"
   ]
  },
  {
   "cell_type": "code",
   "execution_count": 77,
   "id": "13f4a8e4-f71b-4eb5-a318-38e66e6bd0cf",
   "metadata": {},
   "outputs": [
    {
     "data": {
      "text/plain": [
       "0.5457051045672068"
      ]
     },
     "execution_count": 77,
     "metadata": {},
     "output_type": "execute_result"
    }
   ],
   "source": [
    "metrics.precision_score(test_y, predict_y, average='macro')"
   ]
  },
  {
   "cell_type": "code",
   "execution_count": 78,
   "id": "5130cb66-6441-444d-ac78-88526cbfe598",
   "metadata": {},
   "outputs": [
    {
     "data": {
      "text/plain": [
       "0.333"
      ]
     },
     "execution_count": 78,
     "metadata": {},
     "output_type": "execute_result"
    }
   ],
   "source": [
    "metrics.precision_score(test_y, predict_y, average='micro')"
   ]
  },
  {
   "cell_type": "code",
   "execution_count": 79,
   "id": "f7f61095-67e6-49ce-9eb5-90e435f96f58",
   "metadata": {},
   "outputs": [
    {
     "data": {
      "text/plain": [
       "array([[40,  8,  1,  2,  2,  3,  4,  1,  0,  2,  1,  0,  1,  5,  0],\n",
       "       [ 0, 51,  4,  0,  0,  0,  1,  0,  0,  0,  0,  0,  0,  0,  0],\n",
       "       [ 0, 33, 28,  4,  0,  0,  0,  0,  0,  0,  0,  0,  0,  0,  0],\n",
       "       [ 0, 47, 15, 22,  0,  0,  0,  0,  0,  0,  0,  0,  0,  0,  0],\n",
       "       [ 0, 32,  7,  3, 13,  1,  1,  2,  0,  0,  0,  0,  0,  0,  0],\n",
       "       [ 0, 19, 24,  7,  0,  7,  0,  0,  0,  0,  0,  0,  2,  0,  0],\n",
       "       [ 0, 49,  1,  0,  0,  0, 11,  0,  1,  0,  0,  0,  0,  0,  0],\n",
       "       [ 1, 29,  3,  2,  0,  0,  3, 14,  0,  0,  7,  0,  4,  0,  0],\n",
       "       [ 0, 13,  0,  0,  0,  1,  2,  0, 47,  0,  0,  0,  0,  0,  0],\n",
       "       [ 0, 27,  3,  5,  1,  0,  8,  6,  0, 15,  2,  0,  0,  3,  3],\n",
       "       [ 0, 34,  0,  0,  0,  0,  1,  0,  0,  0, 31,  0,  2,  0,  0],\n",
       "       [ 1, 21,  4,  9,  9,  4,  5,  3,  1,  0,  5, 10,  1,  4,  0],\n",
       "       [ 0, 28,  2,  2,  0,  0,  3,  0,  0,  0, 12,  0, 18,  0,  0],\n",
       "       [ 1, 31,  3,  2,  4,  0,  6,  0,  1,  1,  2,  2,  0, 20,  0],\n",
       "       [ 1, 33,  4,  3,  1,  2,  7,  4,  1,  0,  0,  0,  0,  1,  6]],\n",
       "      dtype=int64)"
      ]
     },
     "execution_count": 79,
     "metadata": {},
     "output_type": "execute_result"
    }
   ],
   "source": [
    "metrics.confusion_matrix(test_y, predict_y)"
   ]
  },
  {
   "cell_type": "code",
   "execution_count": 80,
   "id": "78213512-5ddb-444f-b58a-f11994102a17",
   "metadata": {},
   "outputs": [
    {
     "data": {
      "text/plain": [
       "0.35391554606626685"
      ]
     },
     "execution_count": 80,
     "metadata": {},
     "output_type": "execute_result"
    }
   ],
   "source": [
    "metrics.f1_score(test_y, predict_y,average='macro')"
   ]
  },
  {
   "cell_type": "code",
   "execution_count": 127,
   "id": "2056d0ff-430e-4462-a32d-e197020cf1c7",
   "metadata": {},
   "outputs": [
    {
     "data": {
      "text/plain": [
       "0.333"
      ]
     },
     "execution_count": 127,
     "metadata": {},
     "output_type": "execute_result"
    }
   ],
   "source": [
    "metrics.accuracy_score(test_y, predict_y)"
   ]
  },
  {
   "cell_type": "code",
   "execution_count": 128,
   "id": "93257dc1-082f-41bb-a323-0943ec1c2fd4",
   "metadata": {},
   "outputs": [
    {
     "data": {
      "text/plain": [
       "0.3397892622349323"
      ]
     },
     "execution_count": 128,
     "metadata": {},
     "output_type": "execute_result"
    }
   ],
   "source": [
    "metrics.recall_score(test_y, predict_y, average='macro')"
   ]
  },
  {
   "cell_type": "code",
   "execution_count": 134,
   "id": "839bf53d-5cfd-44d8-b744-f45c85f26d55",
   "metadata": {},
   "outputs": [
    {
     "data": {
      "text/plain": [
       "0.333"
      ]
     },
     "execution_count": 134,
     "metadata": {},
     "output_type": "execute_result"
    }
   ],
   "source": [
    "metrics.recall_score(test_y, predict_y, average='micro')"
   ]
  },
  {
   "cell_type": "code",
   "execution_count": 129,
   "id": "bbb0b72f-89ed-4c17-b0e1-c66b1cf427be",
   "metadata": {},
   "outputs": [
    {
     "data": {
      "text/plain": [
       "0.333"
      ]
     },
     "execution_count": 129,
     "metadata": {},
     "output_type": "execute_result"
    }
   ],
   "source": [
    "metrics.f1_score(test_y, predict_y, average='micro')"
   ]
  },
  {
   "cell_type": "markdown",
   "id": "3ff2dc2d-89ed-4b84-add5-d212c2d92614",
   "metadata": {},
   "source": [
    "DT Classifier:"
   ]
  },
  {
   "cell_type": "code",
   "execution_count": 81,
   "id": "9e20a8c5-8fcb-4d02-9777-54402a77e9b1",
   "metadata": {},
   "outputs": [],
   "source": [
    "dt_clf = DecisionTreeClassifier (random_state=0)\n",
    "dt_clf.fit(x_train, train_y)\n",
    "predict_y_dt = dt_clf.predict (x_test)\n"
   ]
  },
  {
   "cell_type": "code",
   "execution_count": 133,
   "id": "49a39022-4ce6-403b-9f42-a3e48583c900",
   "metadata": {},
   "outputs": [
    {
     "data": {
      "text/plain": [
       "0.306"
      ]
     },
     "execution_count": 133,
     "metadata": {},
     "output_type": "execute_result"
    }
   ],
   "source": [
    "metrics.accuracy_score(test_y, predict_y_dt)"
   ]
  },
  {
   "cell_type": "code",
   "execution_count": 82,
   "id": "d5c837c0-814a-4171-8942-7ef7ac4738a0",
   "metadata": {},
   "outputs": [
    {
     "data": {
      "text/plain": [
       "0.2625696497816648"
      ]
     },
     "execution_count": 82,
     "metadata": {},
     "output_type": "execute_result"
    }
   ],
   "source": [
    "metrics.precision_score(test_y, predict_y_dt, average='macro')"
   ]
  },
  {
   "cell_type": "code",
   "execution_count": 83,
   "id": "2155bddb-a3dc-4a2a-96b5-592d7b1c043e",
   "metadata": {},
   "outputs": [
    {
     "data": {
      "text/plain": [
       "0.263"
      ]
     },
     "execution_count": 83,
     "metadata": {},
     "output_type": "execute_result"
    }
   ],
   "source": [
    "metrics.precision_score(test_y, predict_y_dt, average='micro')"
   ]
  },
  {
   "cell_type": "code",
   "execution_count": 131,
   "id": "330c9a96-506d-4fe8-92a8-6c41be5006ca",
   "metadata": {},
   "outputs": [
    {
     "data": {
      "text/plain": [
       "0.3397892622349323"
      ]
     },
     "execution_count": 131,
     "metadata": {},
     "output_type": "execute_result"
    }
   ],
   "source": [
    "metrics.recall_score(test_y, predict_y, average='macro')"
   ]
  },
  {
   "cell_type": "code",
   "execution_count": 132,
   "id": "71b3ad63-8563-408a-9a50-e96372411a2e",
   "metadata": {},
   "outputs": [
    {
     "data": {
      "text/plain": [
       "0.333"
      ]
     },
     "execution_count": 132,
     "metadata": {},
     "output_type": "execute_result"
    }
   ],
   "source": [
    "metrics.recall_score(test_y, predict_y, average='micro')"
   ]
  },
  {
   "cell_type": "code",
   "execution_count": 84,
   "id": "1ef93910-ec4d-43f2-9336-6b7903579383",
   "metadata": {},
   "outputs": [
    {
     "data": {
      "text/plain": [
       "array([[26,  0,  0,  6,  7,  5,  2,  0,  0,  2,  2,  6,  5,  7,  2],\n",
       "       [ 0, 36,  9,  0,  0,  2,  3,  1,  0,  0,  2,  1,  0,  1,  1],\n",
       "       [ 0, 12, 14,  6,  2,  4,  2,  5,  5,  3,  2,  1,  4,  2,  3],\n",
       "       [ 1,  5, 10, 21,  3,  5,  5,  7,  3,  3,  4,  1,  5,  6,  5],\n",
       "       [ 4,  0,  2,  6, 10,  4,  6,  0,  3,  3,  2,  6,  3,  4,  6],\n",
       "       [ 3,  1,  2,  7,  0, 11,  2,  9,  3,  4,  0,  4,  3,  9,  1],\n",
       "       [ 2,  0,  4,  5,  6,  2,  7,  3,  8,  5,  2,  0,  8,  3,  7],\n",
       "       [ 1,  2,  1,  2,  6,  4,  4, 13,  6,  7,  1,  1,  8,  4,  3],\n",
       "       [ 1,  3,  3,  4,  0,  1,  1,  6, 31,  2,  2,  1,  5,  1,  2],\n",
       "       [ 3,  2,  5, 10,  1,  4,  5,  5,  4,  9,  2,  6,  2,  8,  7],\n",
       "       [ 1,  4,  1,  0,  0,  2,  3,  5,  7,  1, 27,  3, 10,  3,  1],\n",
       "       [ 3,  1,  3,  5, 10,  7,  8,  4,  4,  5,  2, 13,  5,  4,  3],\n",
       "       [ 1,  2,  5,  2,  0,  2,  3,  5,  0,  1,  8,  5, 23,  6,  2],\n",
       "       [ 0,  1,  4,  4,  3,  4,  5,  5,  9,  6,  1,  8,  4, 13,  6],\n",
       "       [ 5,  1,  3,  8,  7,  3,  6,  2,  3,  3,  2,  3,  1,  7,  9]],\n",
       "      dtype=int64)"
      ]
     },
     "execution_count": 84,
     "metadata": {},
     "output_type": "execute_result"
    }
   ],
   "source": [
    "metrics.confusion_matrix(test_y, predict_y_dt)"
   ]
  },
  {
   "cell_type": "code",
   "execution_count": 85,
   "id": "c24c46c3-9bed-436f-8c8b-c364da996ac4",
   "metadata": {},
   "outputs": [
    {
     "data": {
      "text/plain": [
       "0.26203192815995385"
      ]
     },
     "execution_count": 85,
     "metadata": {},
     "output_type": "execute_result"
    }
   ],
   "source": [
    "metrics.f1_score(test_y, predict_y_dt, average='macro')"
   ]
  },
  {
   "cell_type": "code",
   "execution_count": 130,
   "id": "33a85478-9092-4ebc-9fca-72452dd91bca",
   "metadata": {},
   "outputs": [
    {
     "data": {
      "text/plain": [
       "0.306"
      ]
     },
     "execution_count": 130,
     "metadata": {},
     "output_type": "execute_result"
    }
   ],
   "source": [
    "metrics.f1_score(test_y, predict_y_dt, average='micro')"
   ]
  },
  {
   "cell_type": "markdown",
   "id": "79f5df65-0671-47c6-b804-0494ff94f38e",
   "metadata": {},
   "source": [
    "SGD classifier:"
   ]
  },
  {
   "cell_type": "code",
   "execution_count": 87,
   "id": "daa14aed-ca3e-49af-a5fa-3eb17de489dd",
   "metadata": {},
   "outputs": [],
   "source": [
    "sgd_clf = SGDClassifier(max_iter=250)\n",
    "sgd_clf.fit(x_train, train_y)\n",
    "predict_y_sgd = sgd_clf.predict(x_test)"
   ]
  },
  {
   "cell_type": "code",
   "execution_count": 135,
   "id": "d58691d1-fb71-429f-ac39-584c593f98db",
   "metadata": {},
   "outputs": [
    {
     "data": {
      "text/plain": [
       "0.291"
      ]
     },
     "execution_count": 135,
     "metadata": {},
     "output_type": "execute_result"
    }
   ],
   "source": [
    "metrics.accuracy_score(test_y, predict_y_sgd)"
   ]
  },
  {
   "cell_type": "code",
   "execution_count": 136,
   "id": "a663fa5b-fccb-42c3-8da6-a291b5ac3d02",
   "metadata": {},
   "outputs": [
    {
     "data": {
      "text/plain": [
       "0.2954444859217064"
      ]
     },
     "execution_count": 136,
     "metadata": {},
     "output_type": "execute_result"
    }
   ],
   "source": [
    "metrics.recall_score(test_y, predict_y_sgd, average='macro')"
   ]
  },
  {
   "cell_type": "code",
   "execution_count": 137,
   "id": "43618178-ec2b-4326-ab81-e5cdd35e28dc",
   "metadata": {},
   "outputs": [
    {
     "data": {
      "text/plain": [
       "0.291"
      ]
     },
     "execution_count": 137,
     "metadata": {},
     "output_type": "execute_result"
    }
   ],
   "source": [
    "metrics.recall_score(test_y, predict_y_sgd, average='micro')"
   ]
  },
  {
   "cell_type": "code",
   "execution_count": 88,
   "id": "d3e86a14-b212-4ce8-819a-65bc5b077a70",
   "metadata": {},
   "outputs": [
    {
     "data": {
      "text/plain": [
       "0.29340468788728025"
      ]
     },
     "execution_count": 88,
     "metadata": {},
     "output_type": "execute_result"
    }
   ],
   "source": [
    "metrics.precision_score(test_y, predict_y_sgd, average='macro')"
   ]
  },
  {
   "cell_type": "code",
   "execution_count": 89,
   "id": "76b0d904-201d-46e7-bb7d-6a41e02b155c",
   "metadata": {},
   "outputs": [
    {
     "data": {
      "text/plain": [
       "0.274"
      ]
     },
     "execution_count": 89,
     "metadata": {},
     "output_type": "execute_result"
    }
   ],
   "source": [
    "metrics.precision_score(test_y, predict_y_sgd, average='micro')"
   ]
  },
  {
   "cell_type": "code",
   "execution_count": 90,
   "id": "73d58536-25c7-4c5e-906a-500b0e29c554",
   "metadata": {},
   "outputs": [
    {
     "data": {
      "text/plain": [
       "array([[34,  0,  0,  0,  2,  0,  1,  3,  1,  5,  1, 14,  3,  5,  1],\n",
       "       [ 3, 15,  6,  4,  1,  5,  5,  3,  0,  1,  5,  1,  1,  4,  2],\n",
       "       [ 1,  3, 19,  6,  4,  6,  3,  7,  4,  1,  1,  2,  0,  3,  5],\n",
       "       [ 2,  1, 11, 19,  3, 13,  5,  1,  0,  7,  0,  8,  8,  4,  2],\n",
       "       [ 3,  0,  3,  3, 13,  4,  8,  3,  2,  2,  2,  9,  0,  2,  5],\n",
       "       [ 0,  0,  9,  4,  5, 15,  4,  4,  0,  5,  2,  8,  1,  1,  1],\n",
       "       [ 3,  0,  2,  3,  7,  0, 16,  4,  4, 11,  1,  4,  2,  4,  1],\n",
       "       [ 4,  1,  3,  6,  5,  2,  1, 14,  4,  5,  4,  6,  1,  5,  2],\n",
       "       [ 2,  3,  5,  3,  4,  3,  3,  5, 18,  4,  0,  3,  1,  4,  5],\n",
       "       [ 4,  1,  1,  6,  1,  7, 11,  6,  2, 12,  5,  8,  2,  5,  2],\n",
       "       [ 5,  2,  1,  3,  2,  4,  1,  7,  1,  0, 28,  5,  6,  2,  1],\n",
       "       [ 4,  1,  5,  5,  3,  6,  6,  3,  4,  3,  3, 18,  3, 10,  3],\n",
       "       [ 7,  0,  2,  2,  0,  6,  4,  4,  2,  1,  9,  6, 14,  5,  3],\n",
       "       [ 6,  0,  2,  1,  5,  5,  5,  4,  1,  6,  4, 11,  1, 19,  3],\n",
       "       [ 0,  1,  0,  3, 10,  6,  3,  2,  4,  8,  0,  3,  1,  2, 20]],\n",
       "      dtype=int64)"
      ]
     },
     "execution_count": 90,
     "metadata": {},
     "output_type": "execute_result"
    }
   ],
   "source": [
    "metrics.confusion_matrix(test_y, predict_y_sgd)"
   ]
  },
  {
   "cell_type": "code",
   "execution_count": 91,
   "id": "fb7d43f8-bf4e-4004-90a2-b61d3530c3b1",
   "metadata": {},
   "outputs": [
    {
     "data": {
      "text/plain": [
       "0.27843489587957765"
      ]
     },
     "execution_count": 91,
     "metadata": {},
     "output_type": "execute_result"
    }
   ],
   "source": [
    "metrics.f1_score(test_y, predict_y_sgd, average='macro')"
   ]
  },
  {
   "cell_type": "code",
   "execution_count": 138,
   "id": "5ab1bfb1-638d-401b-aa45-61ad3c012a49",
   "metadata": {},
   "outputs": [
    {
     "data": {
      "text/plain": [
       "0.291"
      ]
     },
     "execution_count": 138,
     "metadata": {},
     "output_type": "execute_result"
    }
   ],
   "source": [
    "metrics.f1_score(test_y, predict_y_sgd, average='micro')"
   ]
  },
  {
   "cell_type": "markdown",
   "id": "a2f4fd27-360e-4e26-bc4c-5b7749eaa4a8",
   "metadata": {},
   "source": [
    "Second train_size = 10000    test_size =1000"
   ]
  },
  {
   "cell_type": "code",
   "execution_count": 92,
   "id": "e0bc2ad1-3bcf-4fcf-9ed6-ca5af8d36663",
   "metadata": {},
   "outputs": [],
   "source": [
    "train_size = 10000  \n",
    "test_size = 1000    "
   ]
  },
  {
   "cell_type": "code",
   "execution_count": 93,
   "id": "da019f34-c0b5-465a-b98b-d103f8c92dda",
   "metadata": {},
   "outputs": [],
   "source": [
    "train_x = train_images[:train_size, :, :]\n",
    "train_y = train_labels[:train_size]\n",
    "test_x = test_images[:test_size, :, :]\n",
    "test_y = test_labels[:test_size]"
   ]
  },
  {
   "cell_type": "code",
   "execution_count": 98,
   "id": "79414564-2282-4812-afec-3582e18f0bfb",
   "metadata": {},
   "outputs": [
    {
     "name": "stdout",
     "output_type": "stream",
     "text": [
      "(10000, 64, 64)\n",
      "(1000, 64, 64)\n"
     ]
    }
   ],
   "source": [
    "print(train_x.shape)\n",
    "print(test_x.shape)"
   ]
  },
  {
   "cell_type": "code",
   "execution_count": 104,
   "id": "6bd29768-bf95-45e0-8cc1-a3501011b097",
   "metadata": {},
   "outputs": [],
   "source": [
    "x_train = train_x[:100000].reshape(10000, -1)\n",
    "x_test = test_x.reshape(1000, -1)  #碾平\n"
   ]
  },
  {
   "cell_type": "markdown",
   "id": "e4d4648a-fa60-479a-bdc5-5e8db4423ca8",
   "metadata": {},
   "source": [
    "KNN Classifier: "
   ]
  },
  {
   "cell_type": "code",
   "execution_count": 140,
   "id": "90f8a692-c65f-4dce-a15c-b83c3a123cc4",
   "metadata": {},
   "outputs": [],
   "source": [
    "knn_clf = KNeighborsClassifier(n_neighbors=3)\n",
    "knn_clf.fit(x_train, train_y)  \n",
    "predict_y_knn = knn_clf.predict(x_test) "
   ]
  },
  {
   "cell_type": "code",
   "execution_count": 141,
   "id": "4b9a6e29-3d07-4ecd-862d-c2d9f03da436",
   "metadata": {},
   "outputs": [
    {
     "data": {
      "text/plain": [
       "0.413"
      ]
     },
     "execution_count": 141,
     "metadata": {},
     "output_type": "execute_result"
    }
   ],
   "source": [
    "metrics.accuracy_score(test_y, predict_y_knn)"
   ]
  },
  {
   "cell_type": "code",
   "execution_count": null,
   "id": "61533a27-4b22-4552-b8aa-136d94118460",
   "metadata": {},
   "outputs": [
    {
     "data": {
      "text/plain": [
       "0.4206540546229808"
      ]
     },
     "execution_count": 142,
     "metadata": {},
     "output_type": "execute_result"
    }
   ],
   "source": [
    "metrics.recall_score(test_y, predict_y_knn, average='macro')"
   ]
  },
  {
   "cell_type": "code",
   "execution_count": null,
   "id": "3a85e70b-ddde-49bf-b468-05466583ae91",
   "metadata": {},
   "outputs": [
    {
     "data": {
      "text/plain": [
       "0.413"
      ]
     },
     "execution_count": 143,
     "metadata": {},
     "output_type": "execute_result"
    }
   ],
   "source": [
    "metrics.recall_score(test_y, predict_y_knn, average='micro')"
   ]
  },
  {
   "cell_type": "code",
   "execution_count": 106,
   "id": "5fbc702b-2cc2-4b4d-9de4-339e7abee9c1",
   "metadata": {},
   "outputs": [
    {
     "data": {
      "text/plain": [
       "0.5867807924056289"
      ]
     },
     "execution_count": 106,
     "metadata": {},
     "output_type": "execute_result"
    }
   ],
   "source": [
    "metrics.precision_score(test_y, predict_y_knn, average='macro')"
   ]
  },
  {
   "cell_type": "code",
   "execution_count": 107,
   "id": "d2f33bb5-ecd9-472a-9925-e914ecf50ec7",
   "metadata": {},
   "outputs": [
    {
     "data": {
      "text/plain": [
       "0.413"
      ]
     },
     "execution_count": 107,
     "metadata": {},
     "output_type": "execute_result"
    }
   ],
   "source": [
    "metrics.precision_score(test_y, predict_y_knn, average='micro')"
   ]
  },
  {
   "cell_type": "code",
   "execution_count": 108,
   "id": "a8e75183-fc2f-43af-a952-fa28b16b7cb4",
   "metadata": {},
   "outputs": [
    {
     "data": {
      "text/plain": [
       "array([[48,  4,  0,  3,  0,  1,  4,  1,  1,  0,  2,  2,  0,  4,  0],\n",
       "       [ 0, 53,  3,  0,  0,  0,  0,  0,  0,  0,  0,  0,  0,  0,  0],\n",
       "       [ 0, 31, 28,  6,  0,  0,  0,  0,  0,  0,  0,  0,  0,  0,  0],\n",
       "       [ 0, 35, 19, 29,  0,  0,  1,  0,  0,  0,  0,  0,  0,  0,  0],\n",
       "       [ 1, 19,  9,  3, 21,  1,  3,  0,  0,  0,  0,  2,  0,  0,  0],\n",
       "       [ 1, 11, 25, 12,  0,  9,  0,  0,  0,  1,  0,  0,  0,  0,  0],\n",
       "       [ 0, 36,  1,  1,  0,  0, 23,  0,  1,  0,  0,  0,  0,  0,  0],\n",
       "       [ 0, 25,  6,  0,  0,  1,  4, 16,  0,  0, 10,  0,  1,  0,  0],\n",
       "       [ 0,  8,  0,  0,  0,  0,  1,  0, 54,  0,  0,  0,  0,  0,  0],\n",
       "       [ 1, 20,  2,  3,  1,  0, 12,  5,  0, 20,  3,  0,  0,  4,  2],\n",
       "       [ 0, 21,  0,  0,  0,  0,  2,  1,  0,  0, 39,  0,  5,  0,  0],\n",
       "       [ 1, 13,  7, 11,  7,  3,  5,  1,  1,  0,  8, 14,  1,  5,  0],\n",
       "       [ 0, 24,  0,  0,  0,  0,  0,  0,  0,  0, 17,  1, 23,  0,  0],\n",
       "       [ 4, 30,  4,  1,  3,  3,  3,  0,  0,  1,  2,  2,  0, 20,  0],\n",
       "       [ 1, 19,  4,  4,  1,  1,  4,  7,  2,  1,  1,  0,  0,  2, 16]],\n",
       "      dtype=int64)"
      ]
     },
     "execution_count": 108,
     "metadata": {},
     "output_type": "execute_result"
    }
   ],
   "source": [
    "metrics.confusion_matrix(test_y, predict_y_knn)"
   ]
  },
  {
   "cell_type": "code",
   "execution_count": 109,
   "id": "18b0914b-682d-4fac-b929-4c850ae528a3",
   "metadata": {},
   "outputs": [
    {
     "data": {
      "text/plain": [
       "0.43111425355213245"
      ]
     },
     "execution_count": 109,
     "metadata": {},
     "output_type": "execute_result"
    }
   ],
   "source": [
    "metrics.f1_score(test_y, predict_y_knn, average='macro')"
   ]
  },
  {
   "cell_type": "code",
   "execution_count": 144,
   "id": "879b6d19-cd5c-46af-96e7-5c3ac3a9a221",
   "metadata": {},
   "outputs": [
    {
     "data": {
      "text/plain": [
       "0.413"
      ]
     },
     "execution_count": 144,
     "metadata": {},
     "output_type": "execute_result"
    }
   ],
   "source": [
    "metrics.f1_score(test_y, predict_y_knn, average='micro')"
   ]
  },
  {
   "cell_type": "markdown",
   "id": "cbc1dece-d6a0-40be-9831-ffcf3c7161da",
   "metadata": {},
   "source": [
    "DT Classifier: "
   ]
  },
  {
   "cell_type": "code",
   "execution_count": 115,
   "id": "df592e0a-8381-47b1-a141-e33d099e60cd",
   "metadata": {},
   "outputs": [],
   "source": [
    "dt_clf = DecisionTreeClassifier(random_state=0)\n",
    "dt_clf.fit(x_train, train_y)\n",
    "predict_y_dt = dt_clf.predict(x_test)"
   ]
  },
  {
   "cell_type": "code",
   "execution_count": 148,
   "id": "bd7fbf7a-bcbb-4456-b423-b977c5f1b2d8",
   "metadata": {},
   "outputs": [
    {
     "data": {
      "text/plain": [
       "0.306"
      ]
     },
     "execution_count": 148,
     "metadata": {},
     "output_type": "execute_result"
    }
   ],
   "source": [
    "metrics.accuracy_score(test_y, predict_y_dt)"
   ]
  },
  {
   "cell_type": "code",
   "execution_count": null,
   "id": "647e9ab0-2fe4-411b-b2fb-3d5d2cdc004d",
   "metadata": {},
   "outputs": [
    {
     "data": {
      "text/plain": [
       "0.3116204676859478"
      ]
     },
     "execution_count": 146,
     "metadata": {},
     "output_type": "execute_result"
    }
   ],
   "source": [
    "metrics.recall_score(test_y, predict_y_dt, average='macro')"
   ]
  },
  {
   "cell_type": "code",
   "execution_count": null,
   "id": "e68a2423-9ca0-4b9d-a402-bd2babe4e745",
   "metadata": {},
   "outputs": [
    {
     "data": {
      "text/plain": [
       "0.306"
      ]
     },
     "execution_count": 147,
     "metadata": {},
     "output_type": "execute_result"
    }
   ],
   "source": [
    "metrics.recall_score(test_y, predict_y_dt, average='micro')"
   ]
  },
  {
   "cell_type": "code",
   "execution_count": 116,
   "id": "4f3e9443-6333-4613-95f0-7d03d91e1c71",
   "metadata": {},
   "outputs": [
    {
     "data": {
      "text/plain": [
       "0.3117425303041964"
      ]
     },
     "execution_count": 116,
     "metadata": {},
     "output_type": "execute_result"
    }
   ],
   "source": [
    "metrics.precision_score(test_y, predict_y_dt, average='macro')"
   ]
  },
  {
   "cell_type": "code",
   "execution_count": null,
   "id": "74b3fc31-1d59-47cd-b038-03a119247c2c",
   "metadata": {},
   "outputs": [
    {
     "data": {
      "text/plain": [
       "0.306"
      ]
     },
     "execution_count": 117,
     "metadata": {},
     "output_type": "execute_result"
    }
   ],
   "source": [
    "metrics.precision_score(test_y, predict_y_dt, average='micro')"
   ]
  },
  {
   "cell_type": "code",
   "execution_count": 118,
   "id": "a9e6b42e-3cad-4f39-8382-c3c4d9ec126c",
   "metadata": {},
   "outputs": [
    {
     "data": {
      "text/plain": [
       "array([[25,  0,  0,  2,  6,  6,  2,  1,  0,  2,  0, 12,  5,  5,  4],\n",
       "       [ 0, 38,  6,  4,  0,  1,  1,  1,  3,  0,  1,  0,  1,  0,  0],\n",
       "       [ 0, 10, 25,  9,  0,  3,  4,  5,  2,  0,  2,  0,  1,  4,  0],\n",
       "       [ 1,  2, 10, 26,  0,  6,  9,  8,  3,  3,  4,  0,  6,  4,  2],\n",
       "       [ 7,  0,  0,  2, 16,  9,  4,  5,  2,  3,  0,  4,  3,  2,  2],\n",
       "       [ 2,  2,  3,  6,  5, 10,  3,  3,  3,  9,  0,  7,  2,  4,  0],\n",
       "       [ 2,  3,  5,  6,  1,  4, 16,  5,  5,  4,  2,  1,  3,  4,  1],\n",
       "       [ 3,  2,  3,  1,  2,  3,  6, 18,  4,  4,  2,  3,  7,  3,  2],\n",
       "       [ 0,  4,  1,  3,  1,  3,  4,  4, 27,  3,  6,  0,  2,  2,  3],\n",
       "       [ 2,  0,  1,  2,  3,  9, 15,  9,  3,  9,  2,  7,  0,  4,  7],\n",
       "       [ 1,  1,  4,  1,  0,  1,  7,  4,  2,  2, 30,  0, 12,  3,  0],\n",
       "       [ 3,  0,  1,  1,  7,  9,  5,  6,  2,  8,  2, 13,  6, 10,  4],\n",
       "       [ 4,  0,  1,  3,  1,  3,  3,  1,  0,  3, 13,  2, 26,  4,  1],\n",
       "       [ 1,  0,  2,  7,  3,  7,  5,  6,  3,  4,  3,  9,  5, 14,  4],\n",
       "       [ 5,  0,  4,  5, 12,  3,  1,  4,  3,  3,  1,  3,  1,  5, 13]],\n",
       "      dtype=int64)"
      ]
     },
     "execution_count": 118,
     "metadata": {},
     "output_type": "execute_result"
    }
   ],
   "source": [
    "metrics.confusion_matrix(test_y, predict_y_dt)"
   ]
  },
  {
   "cell_type": "code",
   "execution_count": 119,
   "id": "4c5f3a81-36fc-471a-b342-e377a8d624bf",
   "metadata": {},
   "outputs": [
    {
     "data": {
      "text/plain": [
       "0.30922970207337674"
      ]
     },
     "execution_count": 119,
     "metadata": {},
     "output_type": "execute_result"
    }
   ],
   "source": [
    "metrics.f1_score(test_y, predict_y_dt, average='macro')"
   ]
  },
  {
   "cell_type": "code",
   "execution_count": 145,
   "id": "5399cfba-537a-4ed5-a06f-702f8546eae7",
   "metadata": {},
   "outputs": [
    {
     "data": {
      "text/plain": [
       "0.306"
      ]
     },
     "execution_count": 145,
     "metadata": {},
     "output_type": "execute_result"
    }
   ],
   "source": [
    "metrics.f1_score(test_y, predict_y_dt, average='micro')"
   ]
  },
  {
   "cell_type": "markdown",
   "id": "d6aa166c-f8a4-4961-944a-8f7101afc533",
   "metadata": {},
   "source": [
    "SGD"
   ]
  },
  {
   "cell_type": "code",
   "execution_count": 120,
   "id": "de2cae76-fe27-4150-8707-4b103fccc31b",
   "metadata": {},
   "outputs": [],
   "source": [
    "sgd_clf = SGDClassifier(max_iter=250)\n",
    "sgd_clf.fit(x_train, train_y)  # 使用展平后的训练数据\n",
    "predict_y_sgd = sgd_clf.predict(x_test)  # 使用展平后的测试数据"
   ]
  },
  {
   "cell_type": "code",
   "execution_count": 150,
   "id": "6e1d7470-7b55-4805-8ba6-30e36c5d5599",
   "metadata": {},
   "outputs": [
    {
     "data": {
      "text/plain": [
       "0.291"
      ]
     },
     "execution_count": 150,
     "metadata": {},
     "output_type": "execute_result"
    }
   ],
   "source": [
    "metrics.accuracy_score(test_y, predict_y_sgd)"
   ]
  },
  {
   "cell_type": "code",
   "execution_count": null,
   "id": "5a911b81-4635-43af-ae89-e5eaeefdae00",
   "metadata": {},
   "outputs": [
    {
     "data": {
      "text/plain": [
       "0.3344246977547477"
      ]
     },
     "execution_count": 151,
     "metadata": {},
     "output_type": "execute_result"
    }
   ],
   "source": [
    "metrics.precision_score(test_y, predict_y_sgd, average='macro')"
   ]
  },
  {
   "cell_type": "code",
   "execution_count": null,
   "id": "bda08dcc-a33d-4066-844b-f66d7bf64902",
   "metadata": {},
   "outputs": [
    {
     "data": {
      "text/plain": [
       "0.291"
      ]
     },
     "execution_count": 152,
     "metadata": {},
     "output_type": "execute_result"
    }
   ],
   "source": [
    "metrics.precision_score(test_y, predict_y_sgd, average='micro')"
   ]
  },
  {
   "cell_type": "code",
   "execution_count": 121,
   "id": "fb8c70a7-d954-40fc-8054-f7c8781386f5",
   "metadata": {},
   "outputs": [
    {
     "data": {
      "text/plain": [
       "0.3344246977547477"
      ]
     },
     "execution_count": 121,
     "metadata": {},
     "output_type": "execute_result"
    }
   ],
   "source": [
    "metrics.precision_score(test_y, predict_y_sgd, average='macro')"
   ]
  },
  {
   "cell_type": "code",
   "execution_count": null,
   "id": "8efab624-e844-43fa-b271-2f3d4c70fa28",
   "metadata": {},
   "outputs": [
    {
     "data": {
      "text/plain": [
       "0.291"
      ]
     },
     "execution_count": 122,
     "metadata": {},
     "output_type": "execute_result"
    }
   ],
   "source": [
    "metrics.precision_score(test_y, predict_y_sgd, average='micro')"
   ]
  },
  {
   "cell_type": "code",
   "execution_count": null,
   "id": "28d2808f-30a0-461b-a757-2d9967ab65e5",
   "metadata": {},
   "outputs": [
    {
     "data": {
      "text/plain": [
       "array([[35,  0,  0,  0,  1,  7,  1,  6,  0,  4,  1,  6,  2,  5,  2],\n",
       "       [ 0, 18, 17,  3,  3,  4,  2,  0,  0,  2,  2,  0,  0,  2,  3],\n",
       "       [ 1,  3, 25,  3,  0,  9,  2,  8,  2,  2,  0,  2,  2,  1,  5],\n",
       "       [ 0,  1, 18, 16,  2, 17,  2,  2,  0,  7,  0,  3,  6,  2,  8],\n",
       "       [ 5,  1,  5,  0, 15, 11,  3,  3,  0,  4,  1,  3,  2,  2,  4],\n",
       "       [ 3,  1, 10,  2,  0, 20,  3,  5,  0,  6,  1,  3,  2,  2,  1],\n",
       "       [ 0,  0,  5,  3,  2,  4, 15,  3,  5, 12,  1,  5,  5,  2,  0],\n",
       "       [ 2,  1,  6,  2,  2, 10,  1, 22,  3,  5,  1,  1,  2,  2,  3],\n",
       "       [ 0,  3,  5,  3,  2,  7,  4,  4, 24,  3,  0,  2,  0,  1,  5],\n",
       "       [ 2,  0,  3,  0,  2, 12,  9,  8,  3, 21,  2,  3,  2,  1,  5],\n",
       "       [ 3,  0,  3,  0,  5, 11,  1, 11,  1,  5, 11,  3,  7,  5,  2],\n",
       "       [ 4,  0,  3,  2,  5, 14,  4, 11,  2,  1,  1, 12,  2,  9,  7],\n",
       "       [ 5,  1,  5,  1,  1,  8,  3,  5,  1,  4,  5,  1, 20,  2,  3],\n",
       "       [ 9,  0,  1,  0,  2,  7,  4,  6,  0, 10,  2, 10,  5, 14,  3],\n",
       "       [ 2,  0,  3,  1,  4,  3,  1,  4,  3, 13,  2,  1,  2,  1, 23]],\n",
       "      dtype=int64)"
      ]
     },
     "execution_count": 123,
     "metadata": {},
     "output_type": "execute_result"
    }
   ],
   "source": [
    "metrics.confusion_matrix(test_y, predict_y_sgd)"
   ]
  },
  {
   "cell_type": "code",
   "execution_count": 124,
   "id": "db292d29-fd60-4652-992e-9e6b2381dc28",
   "metadata": {},
   "outputs": [
    {
     "data": {
      "text/plain": [
       "0.29798085191777196"
      ]
     },
     "execution_count": 124,
     "metadata": {},
     "output_type": "execute_result"
    }
   ],
   "source": [
    "metrics.f1_score(test_y, predict_y_sgd, average='macro')"
   ]
  },
  {
   "cell_type": "code",
   "execution_count": 149,
   "id": "702a85f3-7496-4cb9-b1b8-98c20aa0c6a2",
   "metadata": {},
   "outputs": [
    {
     "data": {
      "text/plain": [
       "0.291"
      ]
     },
     "execution_count": 149,
     "metadata": {},
     "output_type": "execute_result"
    }
   ],
   "source": [
    "metrics.f1_score(test_y, predict_y_sgd, average='micro')"
   ]
  },
  {
   "cell_type": "markdown",
   "id": "5ee2808f-a827-43d1-b0d4-9cab0125ed90",
   "metadata": {},
   "source": [
    "The performance of KNN, Decision Tree (DT), and Stochastic Gradient Descent (SGD) classifiers varies with dataset size.\n",
    "\n",
    "With 5,000 training samples:\n",
    "\n",
    "KNN tends to underfit due to the limited number of neighbors.\n",
    "DT may exhibit unstable performance or overfit the data.\n",
    "SGD struggles to converge reliably.\n",
    "With 10,000 training samples:\n",
    "\n",
    "KNN achieves higher accuracy but at the cost of increased computational time.\n",
    "DT sees accuracy improvements but remains prone to overfitting unless properly pruned.\n",
    "SGD demonstrates significant gains in both accuracy and stability, highlighting its advantage in handling larger datasets.\n",
    "Overall, SGD is the preferred choice for large datasets due to its efficiency in training, DT offers interpretability but requires caution against overfitting, and KNN is better suited for smaller, well-balanced datasets."
   ]
  }
 ],
 "metadata": {
  "kernelspec": {
   "display_name": "Python 3 (ipykernel)",
   "language": "python",
   "name": "python3"
  },
  "language_info": {
   "codemirror_mode": {
    "name": "ipython",
    "version": 3
   },
   "file_extension": ".py",
   "mimetype": "text/x-python",
   "name": "python",
   "nbconvert_exporter": "python",
   "pygments_lexer": "ipython3",
   "version": "3.8.20"
  }
 },
 "nbformat": 4,
 "nbformat_minor": 5
}
